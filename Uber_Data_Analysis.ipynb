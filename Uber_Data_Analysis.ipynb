{
 "cells": [
  {
   "cell_type": "code",
   "execution_count": 1,
   "id": "d0acdd86",
   "metadata": {},
   "outputs": [],
   "source": [
    "import pandas as pd# python data analysis\n",
    "import numpy as np #numerical python\n",
    "import matplotlib.pyplot as plt#visualization library-old school\n",
    "import seaborn as sns# visulaization library- newly build"
   ]
  },
  {
   "cell_type": "code",
   "execution_count": 2,
   "id": "1c5996ee",
   "metadata": {},
   "outputs": [],
   "source": [
    "df=pd.read_csv(\"cab_rides.csv\")"
   ]
  },
  {
   "cell_type": "code",
   "execution_count": 3,
   "id": "6c7ec98a",
   "metadata": {},
   "outputs": [
    {
     "data": {
      "text/html": [
       "<div>\n",
       "<style scoped>\n",
       "    .dataframe tbody tr th:only-of-type {\n",
       "        vertical-align: middle;\n",
       "    }\n",
       "\n",
       "    .dataframe tbody tr th {\n",
       "        vertical-align: top;\n",
       "    }\n",
       "\n",
       "    .dataframe thead th {\n",
       "        text-align: right;\n",
       "    }\n",
       "</style>\n",
       "<table border=\"1\" class=\"dataframe\">\n",
       "  <thead>\n",
       "    <tr style=\"text-align: right;\">\n",
       "      <th></th>\n",
       "      <th>distance</th>\n",
       "      <th>cab_type</th>\n",
       "      <th>time_stamp</th>\n",
       "      <th>destination</th>\n",
       "      <th>source</th>\n",
       "      <th>price</th>\n",
       "      <th>surge_multiplier</th>\n",
       "      <th>id</th>\n",
       "      <th>product_id</th>\n",
       "      <th>name</th>\n",
       "    </tr>\n",
       "  </thead>\n",
       "  <tbody>\n",
       "    <tr>\n",
       "      <th>0</th>\n",
       "      <td>0.44</td>\n",
       "      <td>Lyft</td>\n",
       "      <td>1544952607890</td>\n",
       "      <td>North Station</td>\n",
       "      <td>Haymarket Square</td>\n",
       "      <td>5.0</td>\n",
       "      <td>1.0</td>\n",
       "      <td>424553bb-7174-41ea-aeb4-fe06d4f4b9d7</td>\n",
       "      <td>lyft_line</td>\n",
       "      <td>Shared</td>\n",
       "    </tr>\n",
       "    <tr>\n",
       "      <th>1</th>\n",
       "      <td>0.44</td>\n",
       "      <td>Lyft</td>\n",
       "      <td>1543284023677</td>\n",
       "      <td>North Station</td>\n",
       "      <td>Haymarket Square</td>\n",
       "      <td>11.0</td>\n",
       "      <td>1.0</td>\n",
       "      <td>4bd23055-6827-41c6-b23b-3c491f24e74d</td>\n",
       "      <td>lyft_premier</td>\n",
       "      <td>Lux</td>\n",
       "    </tr>\n",
       "    <tr>\n",
       "      <th>2</th>\n",
       "      <td>0.44</td>\n",
       "      <td>Lyft</td>\n",
       "      <td>1543366822198</td>\n",
       "      <td>North Station</td>\n",
       "      <td>Haymarket Square</td>\n",
       "      <td>7.0</td>\n",
       "      <td>1.0</td>\n",
       "      <td>981a3613-77af-4620-a42a-0c0866077d1e</td>\n",
       "      <td>lyft</td>\n",
       "      <td>Lyft</td>\n",
       "    </tr>\n",
       "    <tr>\n",
       "      <th>3</th>\n",
       "      <td>0.44</td>\n",
       "      <td>Lyft</td>\n",
       "      <td>1543553582749</td>\n",
       "      <td>North Station</td>\n",
       "      <td>Haymarket Square</td>\n",
       "      <td>26.0</td>\n",
       "      <td>1.0</td>\n",
       "      <td>c2d88af2-d278-4bfd-a8d0-29ca77cc5512</td>\n",
       "      <td>lyft_luxsuv</td>\n",
       "      <td>Lux Black XL</td>\n",
       "    </tr>\n",
       "    <tr>\n",
       "      <th>4</th>\n",
       "      <td>0.44</td>\n",
       "      <td>Lyft</td>\n",
       "      <td>1543463360223</td>\n",
       "      <td>North Station</td>\n",
       "      <td>Haymarket Square</td>\n",
       "      <td>9.0</td>\n",
       "      <td>1.0</td>\n",
       "      <td>e0126e1f-8ca9-4f2e-82b3-50505a09db9a</td>\n",
       "      <td>lyft_plus</td>\n",
       "      <td>Lyft XL</td>\n",
       "    </tr>\n",
       "    <tr>\n",
       "      <th>...</th>\n",
       "      <td>...</td>\n",
       "      <td>...</td>\n",
       "      <td>...</td>\n",
       "      <td>...</td>\n",
       "      <td>...</td>\n",
       "      <td>...</td>\n",
       "      <td>...</td>\n",
       "      <td>...</td>\n",
       "      <td>...</td>\n",
       "      <td>...</td>\n",
       "    </tr>\n",
       "    <tr>\n",
       "      <th>693066</th>\n",
       "      <td>1.00</td>\n",
       "      <td>Uber</td>\n",
       "      <td>1543708385534</td>\n",
       "      <td>North End</td>\n",
       "      <td>West End</td>\n",
       "      <td>13.0</td>\n",
       "      <td>1.0</td>\n",
       "      <td>616d3611-1820-450a-9845-a9ff304a4842</td>\n",
       "      <td>6f72dfc5-27f1-42e8-84db-ccc7a75f6969</td>\n",
       "      <td>UberXL</td>\n",
       "    </tr>\n",
       "    <tr>\n",
       "      <th>693067</th>\n",
       "      <td>1.00</td>\n",
       "      <td>Uber</td>\n",
       "      <td>1543708385534</td>\n",
       "      <td>North End</td>\n",
       "      <td>West End</td>\n",
       "      <td>9.5</td>\n",
       "      <td>1.0</td>\n",
       "      <td>633a3fc3-1f86-4b9e-9d48-2b7132112341</td>\n",
       "      <td>55c66225-fbe7-4fd5-9072-eab1ece5e23e</td>\n",
       "      <td>UberX</td>\n",
       "    </tr>\n",
       "    <tr>\n",
       "      <th>693068</th>\n",
       "      <td>1.00</td>\n",
       "      <td>Uber</td>\n",
       "      <td>1543708385534</td>\n",
       "      <td>North End</td>\n",
       "      <td>West End</td>\n",
       "      <td>NaN</td>\n",
       "      <td>1.0</td>\n",
       "      <td>64d451d0-639f-47a4-9b7c-6fd92fbd264f</td>\n",
       "      <td>8cf7e821-f0d3-49c6-8eba-e679c0ebcf6a</td>\n",
       "      <td>Taxi</td>\n",
       "    </tr>\n",
       "    <tr>\n",
       "      <th>693069</th>\n",
       "      <td>1.00</td>\n",
       "      <td>Uber</td>\n",
       "      <td>1543708385534</td>\n",
       "      <td>North End</td>\n",
       "      <td>West End</td>\n",
       "      <td>27.0</td>\n",
       "      <td>1.0</td>\n",
       "      <td>727e5f07-a96b-4ad1-a2c7-9abc3ad55b4e</td>\n",
       "      <td>6d318bcc-22a3-4af6-bddd-b409bfce1546</td>\n",
       "      <td>Black SUV</td>\n",
       "    </tr>\n",
       "    <tr>\n",
       "      <th>693070</th>\n",
       "      <td>1.00</td>\n",
       "      <td>Uber</td>\n",
       "      <td>1543708385534</td>\n",
       "      <td>North End</td>\n",
       "      <td>West End</td>\n",
       "      <td>10.0</td>\n",
       "      <td>1.0</td>\n",
       "      <td>e7fdc087-fe86-40a5-a3c3-3b2a8badcbda</td>\n",
       "      <td>997acbb5-e102-41e1-b155-9df7de0a73f2</td>\n",
       "      <td>UberPool</td>\n",
       "    </tr>\n",
       "  </tbody>\n",
       "</table>\n",
       "<p>693071 rows × 10 columns</p>\n",
       "</div>"
      ],
      "text/plain": [
       "        distance cab_type     time_stamp    destination            source  \\\n",
       "0           0.44     Lyft  1544952607890  North Station  Haymarket Square   \n",
       "1           0.44     Lyft  1543284023677  North Station  Haymarket Square   \n",
       "2           0.44     Lyft  1543366822198  North Station  Haymarket Square   \n",
       "3           0.44     Lyft  1543553582749  North Station  Haymarket Square   \n",
       "4           0.44     Lyft  1543463360223  North Station  Haymarket Square   \n",
       "...          ...      ...            ...            ...               ...   \n",
       "693066      1.00     Uber  1543708385534      North End          West End   \n",
       "693067      1.00     Uber  1543708385534      North End          West End   \n",
       "693068      1.00     Uber  1543708385534      North End          West End   \n",
       "693069      1.00     Uber  1543708385534      North End          West End   \n",
       "693070      1.00     Uber  1543708385534      North End          West End   \n",
       "\n",
       "        price  surge_multiplier                                    id  \\\n",
       "0         5.0               1.0  424553bb-7174-41ea-aeb4-fe06d4f4b9d7   \n",
       "1        11.0               1.0  4bd23055-6827-41c6-b23b-3c491f24e74d   \n",
       "2         7.0               1.0  981a3613-77af-4620-a42a-0c0866077d1e   \n",
       "3        26.0               1.0  c2d88af2-d278-4bfd-a8d0-29ca77cc5512   \n",
       "4         9.0               1.0  e0126e1f-8ca9-4f2e-82b3-50505a09db9a   \n",
       "...       ...               ...                                   ...   \n",
       "693066   13.0               1.0  616d3611-1820-450a-9845-a9ff304a4842   \n",
       "693067    9.5               1.0  633a3fc3-1f86-4b9e-9d48-2b7132112341   \n",
       "693068    NaN               1.0  64d451d0-639f-47a4-9b7c-6fd92fbd264f   \n",
       "693069   27.0               1.0  727e5f07-a96b-4ad1-a2c7-9abc3ad55b4e   \n",
       "693070   10.0               1.0  e7fdc087-fe86-40a5-a3c3-3b2a8badcbda   \n",
       "\n",
       "                                  product_id          name  \n",
       "0                                  lyft_line        Shared  \n",
       "1                               lyft_premier           Lux  \n",
       "2                                       lyft          Lyft  \n",
       "3                                lyft_luxsuv  Lux Black XL  \n",
       "4                                  lyft_plus       Lyft XL  \n",
       "...                                      ...           ...  \n",
       "693066  6f72dfc5-27f1-42e8-84db-ccc7a75f6969        UberXL  \n",
       "693067  55c66225-fbe7-4fd5-9072-eab1ece5e23e         UberX  \n",
       "693068  8cf7e821-f0d3-49c6-8eba-e679c0ebcf6a          Taxi  \n",
       "693069  6d318bcc-22a3-4af6-bddd-b409bfce1546     Black SUV  \n",
       "693070  997acbb5-e102-41e1-b155-9df7de0a73f2      UberPool  \n",
       "\n",
       "[693071 rows x 10 columns]"
      ]
     },
     "execution_count": 3,
     "metadata": {},
     "output_type": "execute_result"
    }
   ],
   "source": [
    "df"
   ]
  },
  {
   "cell_type": "code",
   "execution_count": 4,
   "id": "5a6b02b2",
   "metadata": {},
   "outputs": [
    {
     "data": {
      "text/plain": [
       "Index(['distance', 'cab_type', 'time_stamp', 'destination', 'source', 'price',\n",
       "       'surge_multiplier', 'id', 'product_id', 'name'],\n",
       "      dtype='object')"
      ]
     },
     "execution_count": 4,
     "metadata": {},
     "output_type": "execute_result"
    }
   ],
   "source": [
    "df.columns"
   ]
  },
  {
   "cell_type": "code",
   "execution_count": 5,
   "id": "cfd0c316",
   "metadata": {},
   "outputs": [
    {
     "data": {
      "text/plain": [
       "0"
      ]
     },
     "execution_count": 5,
     "metadata": {},
     "output_type": "execute_result"
    }
   ],
   "source": [
    "#to check is there are duplicates in my data\n",
    "\n",
    "df.duplicated().sum() #we are summing the total duplicate rows in our data"
   ]
  },
  {
   "cell_type": "code",
   "execution_count": 6,
   "id": "9247a954",
   "metadata": {},
   "outputs": [],
   "source": [
    "df=df.drop_duplicates() #because we do not have duplicates,we are not getting any changes in the\n",
    "#data"
   ]
  },
  {
   "cell_type": "code",
   "execution_count": 7,
   "id": "a3d63b75",
   "metadata": {},
   "outputs": [
    {
     "data": {
      "text/html": [
       "<div>\n",
       "<style scoped>\n",
       "    .dataframe tbody tr th:only-of-type {\n",
       "        vertical-align: middle;\n",
       "    }\n",
       "\n",
       "    .dataframe tbody tr th {\n",
       "        vertical-align: top;\n",
       "    }\n",
       "\n",
       "    .dataframe thead th {\n",
       "        text-align: right;\n",
       "    }\n",
       "</style>\n",
       "<table border=\"1\" class=\"dataframe\">\n",
       "  <thead>\n",
       "    <tr style=\"text-align: right;\">\n",
       "      <th></th>\n",
       "      <th>distance</th>\n",
       "      <th>cab_type</th>\n",
       "      <th>time_stamp</th>\n",
       "      <th>destination</th>\n",
       "      <th>source</th>\n",
       "      <th>price</th>\n",
       "      <th>surge_multiplier</th>\n",
       "      <th>id</th>\n",
       "      <th>product_id</th>\n",
       "      <th>name</th>\n",
       "    </tr>\n",
       "  </thead>\n",
       "  <tbody>\n",
       "    <tr>\n",
       "      <th>0</th>\n",
       "      <td>0.44</td>\n",
       "      <td>Lyft</td>\n",
       "      <td>1544952607890</td>\n",
       "      <td>North Station</td>\n",
       "      <td>Haymarket Square</td>\n",
       "      <td>5.0</td>\n",
       "      <td>1.0</td>\n",
       "      <td>424553bb-7174-41ea-aeb4-fe06d4f4b9d7</td>\n",
       "      <td>lyft_line</td>\n",
       "      <td>Shared</td>\n",
       "    </tr>\n",
       "    <tr>\n",
       "      <th>1</th>\n",
       "      <td>0.44</td>\n",
       "      <td>Lyft</td>\n",
       "      <td>1543284023677</td>\n",
       "      <td>North Station</td>\n",
       "      <td>Haymarket Square</td>\n",
       "      <td>11.0</td>\n",
       "      <td>1.0</td>\n",
       "      <td>4bd23055-6827-41c6-b23b-3c491f24e74d</td>\n",
       "      <td>lyft_premier</td>\n",
       "      <td>Lux</td>\n",
       "    </tr>\n",
       "    <tr>\n",
       "      <th>2</th>\n",
       "      <td>0.44</td>\n",
       "      <td>Lyft</td>\n",
       "      <td>1543366822198</td>\n",
       "      <td>North Station</td>\n",
       "      <td>Haymarket Square</td>\n",
       "      <td>7.0</td>\n",
       "      <td>1.0</td>\n",
       "      <td>981a3613-77af-4620-a42a-0c0866077d1e</td>\n",
       "      <td>lyft</td>\n",
       "      <td>Lyft</td>\n",
       "    </tr>\n",
       "    <tr>\n",
       "      <th>3</th>\n",
       "      <td>0.44</td>\n",
       "      <td>Lyft</td>\n",
       "      <td>1543553582749</td>\n",
       "      <td>North Station</td>\n",
       "      <td>Haymarket Square</td>\n",
       "      <td>26.0</td>\n",
       "      <td>1.0</td>\n",
       "      <td>c2d88af2-d278-4bfd-a8d0-29ca77cc5512</td>\n",
       "      <td>lyft_luxsuv</td>\n",
       "      <td>Lux Black XL</td>\n",
       "    </tr>\n",
       "    <tr>\n",
       "      <th>4</th>\n",
       "      <td>0.44</td>\n",
       "      <td>Lyft</td>\n",
       "      <td>1543463360223</td>\n",
       "      <td>North Station</td>\n",
       "      <td>Haymarket Square</td>\n",
       "      <td>9.0</td>\n",
       "      <td>1.0</td>\n",
       "      <td>e0126e1f-8ca9-4f2e-82b3-50505a09db9a</td>\n",
       "      <td>lyft_plus</td>\n",
       "      <td>Lyft XL</td>\n",
       "    </tr>\n",
       "    <tr>\n",
       "      <th>...</th>\n",
       "      <td>...</td>\n",
       "      <td>...</td>\n",
       "      <td>...</td>\n",
       "      <td>...</td>\n",
       "      <td>...</td>\n",
       "      <td>...</td>\n",
       "      <td>...</td>\n",
       "      <td>...</td>\n",
       "      <td>...</td>\n",
       "      <td>...</td>\n",
       "    </tr>\n",
       "    <tr>\n",
       "      <th>693066</th>\n",
       "      <td>1.00</td>\n",
       "      <td>Uber</td>\n",
       "      <td>1543708385534</td>\n",
       "      <td>North End</td>\n",
       "      <td>West End</td>\n",
       "      <td>13.0</td>\n",
       "      <td>1.0</td>\n",
       "      <td>616d3611-1820-450a-9845-a9ff304a4842</td>\n",
       "      <td>6f72dfc5-27f1-42e8-84db-ccc7a75f6969</td>\n",
       "      <td>UberXL</td>\n",
       "    </tr>\n",
       "    <tr>\n",
       "      <th>693067</th>\n",
       "      <td>1.00</td>\n",
       "      <td>Uber</td>\n",
       "      <td>1543708385534</td>\n",
       "      <td>North End</td>\n",
       "      <td>West End</td>\n",
       "      <td>9.5</td>\n",
       "      <td>1.0</td>\n",
       "      <td>633a3fc3-1f86-4b9e-9d48-2b7132112341</td>\n",
       "      <td>55c66225-fbe7-4fd5-9072-eab1ece5e23e</td>\n",
       "      <td>UberX</td>\n",
       "    </tr>\n",
       "    <tr>\n",
       "      <th>693068</th>\n",
       "      <td>1.00</td>\n",
       "      <td>Uber</td>\n",
       "      <td>1543708385534</td>\n",
       "      <td>North End</td>\n",
       "      <td>West End</td>\n",
       "      <td>NaN</td>\n",
       "      <td>1.0</td>\n",
       "      <td>64d451d0-639f-47a4-9b7c-6fd92fbd264f</td>\n",
       "      <td>8cf7e821-f0d3-49c6-8eba-e679c0ebcf6a</td>\n",
       "      <td>Taxi</td>\n",
       "    </tr>\n",
       "    <tr>\n",
       "      <th>693069</th>\n",
       "      <td>1.00</td>\n",
       "      <td>Uber</td>\n",
       "      <td>1543708385534</td>\n",
       "      <td>North End</td>\n",
       "      <td>West End</td>\n",
       "      <td>27.0</td>\n",
       "      <td>1.0</td>\n",
       "      <td>727e5f07-a96b-4ad1-a2c7-9abc3ad55b4e</td>\n",
       "      <td>6d318bcc-22a3-4af6-bddd-b409bfce1546</td>\n",
       "      <td>Black SUV</td>\n",
       "    </tr>\n",
       "    <tr>\n",
       "      <th>693070</th>\n",
       "      <td>1.00</td>\n",
       "      <td>Uber</td>\n",
       "      <td>1543708385534</td>\n",
       "      <td>North End</td>\n",
       "      <td>West End</td>\n",
       "      <td>10.0</td>\n",
       "      <td>1.0</td>\n",
       "      <td>e7fdc087-fe86-40a5-a3c3-3b2a8badcbda</td>\n",
       "      <td>997acbb5-e102-41e1-b155-9df7de0a73f2</td>\n",
       "      <td>UberPool</td>\n",
       "    </tr>\n",
       "  </tbody>\n",
       "</table>\n",
       "<p>693071 rows × 10 columns</p>\n",
       "</div>"
      ],
      "text/plain": [
       "        distance cab_type     time_stamp    destination            source  \\\n",
       "0           0.44     Lyft  1544952607890  North Station  Haymarket Square   \n",
       "1           0.44     Lyft  1543284023677  North Station  Haymarket Square   \n",
       "2           0.44     Lyft  1543366822198  North Station  Haymarket Square   \n",
       "3           0.44     Lyft  1543553582749  North Station  Haymarket Square   \n",
       "4           0.44     Lyft  1543463360223  North Station  Haymarket Square   \n",
       "...          ...      ...            ...            ...               ...   \n",
       "693066      1.00     Uber  1543708385534      North End          West End   \n",
       "693067      1.00     Uber  1543708385534      North End          West End   \n",
       "693068      1.00     Uber  1543708385534      North End          West End   \n",
       "693069      1.00     Uber  1543708385534      North End          West End   \n",
       "693070      1.00     Uber  1543708385534      North End          West End   \n",
       "\n",
       "        price  surge_multiplier                                    id  \\\n",
       "0         5.0               1.0  424553bb-7174-41ea-aeb4-fe06d4f4b9d7   \n",
       "1        11.0               1.0  4bd23055-6827-41c6-b23b-3c491f24e74d   \n",
       "2         7.0               1.0  981a3613-77af-4620-a42a-0c0866077d1e   \n",
       "3        26.0               1.0  c2d88af2-d278-4bfd-a8d0-29ca77cc5512   \n",
       "4         9.0               1.0  e0126e1f-8ca9-4f2e-82b3-50505a09db9a   \n",
       "...       ...               ...                                   ...   \n",
       "693066   13.0               1.0  616d3611-1820-450a-9845-a9ff304a4842   \n",
       "693067    9.5               1.0  633a3fc3-1f86-4b9e-9d48-2b7132112341   \n",
       "693068    NaN               1.0  64d451d0-639f-47a4-9b7c-6fd92fbd264f   \n",
       "693069   27.0               1.0  727e5f07-a96b-4ad1-a2c7-9abc3ad55b4e   \n",
       "693070   10.0               1.0  e7fdc087-fe86-40a5-a3c3-3b2a8badcbda   \n",
       "\n",
       "                                  product_id          name  \n",
       "0                                  lyft_line        Shared  \n",
       "1                               lyft_premier           Lux  \n",
       "2                                       lyft          Lyft  \n",
       "3                                lyft_luxsuv  Lux Black XL  \n",
       "4                                  lyft_plus       Lyft XL  \n",
       "...                                      ...           ...  \n",
       "693066  6f72dfc5-27f1-42e8-84db-ccc7a75f6969        UberXL  \n",
       "693067  55c66225-fbe7-4fd5-9072-eab1ece5e23e         UberX  \n",
       "693068  8cf7e821-f0d3-49c6-8eba-e679c0ebcf6a          Taxi  \n",
       "693069  6d318bcc-22a3-4af6-bddd-b409bfce1546     Black SUV  \n",
       "693070  997acbb5-e102-41e1-b155-9df7de0a73f2      UberPool  \n",
       "\n",
       "[693071 rows x 10 columns]"
      ]
     },
     "execution_count": 7,
     "metadata": {},
     "output_type": "execute_result"
    }
   ],
   "source": [
    "df"
   ]
  },
  {
   "cell_type": "code",
   "execution_count": 8,
   "id": "96969e77",
   "metadata": {
    "scrolled": true
   },
   "outputs": [
    {
     "data": {
      "text/plain": [
       "distance                0\n",
       "cab_type                0\n",
       "time_stamp              0\n",
       "destination             0\n",
       "source                  0\n",
       "price               55095\n",
       "surge_multiplier        0\n",
       "id                      0\n",
       "product_id              0\n",
       "name                    0\n",
       "dtype: int64"
      ]
     },
     "execution_count": 8,
     "metadata": {},
     "output_type": "execute_result"
    }
   ],
   "source": [
    "df.isnull().sum() #this code tells me number of null values in my data\n"
   ]
  },
  {
   "cell_type": "markdown",
   "id": "72b2e7ff",
   "metadata": {},
   "source": [
    "# Observations\n",
    "\n",
    "There are almost 5500 trip where price is not there."
   ]
  },
  {
   "cell_type": "code",
   "execution_count": 9,
   "id": "7bb95e84",
   "metadata": {},
   "outputs": [
    {
     "data": {
      "text/plain": [
       "count    693071.000000\n",
       "mean          2.189430\n",
       "std           1.138937\n",
       "min           0.020000\n",
       "25%           1.280000\n",
       "50%           2.160000\n",
       "75%           2.920000\n",
       "max           7.860000\n",
       "Name: distance, dtype: float64"
      ]
     },
     "execution_count": 9,
     "metadata": {},
     "output_type": "execute_result"
    }
   ],
   "source": [
    "df['distance'].describe()"
   ]
  },
  {
   "cell_type": "code",
   "execution_count": 10,
   "id": "be8a408d",
   "metadata": {},
   "outputs": [
    {
     "data": {
      "text/plain": [
       "count    693071.000000\n",
       "mean          2.189430\n",
       "std           1.138937\n",
       "min           0.020000\n",
       "25%           1.280000\n",
       "50%           2.160000\n",
       "75%           2.920000\n",
       "max           7.860000\n",
       "Name: distance, dtype: float64"
      ]
     },
     "execution_count": 10,
     "metadata": {},
     "output_type": "execute_result"
    }
   ],
   "source": [
    "df.distance.describe()\n",
    "#another way of descibing."
   ]
  },
  {
   "cell_type": "markdown",
   "id": "1cd5ddf7",
   "metadata": {},
   "source": [
    "# Distance Column/Feature/Dimension"
   ]
  },
  {
   "cell_type": "markdown",
   "id": "4a33862b",
   "metadata": {},
   "source": [
    "Now lets understand the distance column into much more details"
   ]
  },
  {
   "cell_type": "code",
   "execution_count": 11,
   "id": "8f4aa3ee",
   "metadata": {},
   "outputs": [
    {
     "data": {
      "text/plain": [
       "2.66    9174\n",
       "2.32    9127\n",
       "2.84    8562\n",
       "1.41    7884\n",
       "1.25    7434\n",
       "        ... \n",
       "3.84       6\n",
       "4.89       6\n",
       "6.33       6\n",
       "4.99       6\n",
       "4.87       6\n",
       "Name: distance, Length: 549, dtype: int64"
      ]
     },
     "execution_count": 11,
     "metadata": {},
     "output_type": "execute_result"
    }
   ],
   "source": [
    "value_distance=df['distance'].value_counts()\n",
    "value_distance\n"
   ]
  },
  {
   "cell_type": "markdown",
   "id": "33b67181",
   "metadata": {},
   "source": [
    "We can cleary see that out of 6 lakhs 9174 trips were at distance \n",
    "2.66 miles."
   ]
  },
  {
   "cell_type": "code",
   "execution_count": 12,
   "id": "77a40df7",
   "metadata": {},
   "outputs": [
    {
     "name": "stdout",
     "output_type": "stream",
     "text": [
      "549\n"
     ]
    }
   ],
   "source": [
    "print(len(value_distance))"
   ]
  },
  {
   "cell_type": "code",
   "execution_count": 13,
   "id": "0b03dee7",
   "metadata": {},
   "outputs": [
    {
     "data": {
      "text/plain": [
       "2.66    9174\n",
       "2.32    9127\n",
       "2.84    8562\n",
       "1.41    7884\n",
       "1.25    7434\n",
       "1.16    7333\n",
       "1.08    7251\n",
       "1.34    7105\n",
       "1.50    7067\n",
       "1.35    6952\n",
       "Name: distance, dtype: int64"
      ]
     },
     "execution_count": 13,
     "metadata": {},
     "output_type": "execute_result"
    }
   ],
   "source": [
    "top_10_value_dis=value_distance.iloc[:10]\n",
    "top_10_value_dis\n",
    "#these are top 10 distances covered by users"
   ]
  },
  {
   "cell_type": "markdown",
   "id": "16df79a2",
   "metadata": {},
   "source": [
    "# iloc vs loc"
   ]
  },
  {
   "cell_type": "code",
   "execution_count": 14,
   "id": "167fd35d",
   "metadata": {},
   "outputs": [
    {
     "data": {
      "text/html": [
       "<div>\n",
       "<style scoped>\n",
       "    .dataframe tbody tr th:only-of-type {\n",
       "        vertical-align: middle;\n",
       "    }\n",
       "\n",
       "    .dataframe tbody tr th {\n",
       "        vertical-align: top;\n",
       "    }\n",
       "\n",
       "    .dataframe thead th {\n",
       "        text-align: right;\n",
       "    }\n",
       "</style>\n",
       "<table border=\"1\" class=\"dataframe\">\n",
       "  <thead>\n",
       "    <tr style=\"text-align: right;\">\n",
       "      <th></th>\n",
       "      <th>distance</th>\n",
       "      <th>cab_type</th>\n",
       "      <th>time_stamp</th>\n",
       "      <th>destination</th>\n",
       "      <th>source</th>\n",
       "    </tr>\n",
       "  </thead>\n",
       "  <tbody>\n",
       "    <tr>\n",
       "      <th>0</th>\n",
       "      <td>0.44</td>\n",
       "      <td>Lyft</td>\n",
       "      <td>1544952607890</td>\n",
       "      <td>North Station</td>\n",
       "      <td>Haymarket Square</td>\n",
       "    </tr>\n",
       "    <tr>\n",
       "      <th>1</th>\n",
       "      <td>0.44</td>\n",
       "      <td>Lyft</td>\n",
       "      <td>1543284023677</td>\n",
       "      <td>North Station</td>\n",
       "      <td>Haymarket Square</td>\n",
       "    </tr>\n",
       "    <tr>\n",
       "      <th>2</th>\n",
       "      <td>0.44</td>\n",
       "      <td>Lyft</td>\n",
       "      <td>1543366822198</td>\n",
       "      <td>North Station</td>\n",
       "      <td>Haymarket Square</td>\n",
       "    </tr>\n",
       "    <tr>\n",
       "      <th>3</th>\n",
       "      <td>0.44</td>\n",
       "      <td>Lyft</td>\n",
       "      <td>1543553582749</td>\n",
       "      <td>North Station</td>\n",
       "      <td>Haymarket Square</td>\n",
       "    </tr>\n",
       "    <tr>\n",
       "      <th>4</th>\n",
       "      <td>0.44</td>\n",
       "      <td>Lyft</td>\n",
       "      <td>1543463360223</td>\n",
       "      <td>North Station</td>\n",
       "      <td>Haymarket Square</td>\n",
       "    </tr>\n",
       "  </tbody>\n",
       "</table>\n",
       "</div>"
      ],
      "text/plain": [
       "   distance cab_type     time_stamp    destination            source\n",
       "0      0.44     Lyft  1544952607890  North Station  Haymarket Square\n",
       "1      0.44     Lyft  1543284023677  North Station  Haymarket Square\n",
       "2      0.44     Lyft  1543366822198  North Station  Haymarket Square\n",
       "3      0.44     Lyft  1543553582749  North Station  Haymarket Square\n",
       "4      0.44     Lyft  1543463360223  North Station  Haymarket Square"
      ]
     },
     "execution_count": 14,
     "metadata": {},
     "output_type": "execute_result"
    }
   ],
   "source": [
    "#iloc- index location\n",
    "df1=df.iloc[0:5,0:5]#df.iloc[number_of_rows,number_of_columns] 2 here is excluded\n",
    "df1\n",
    "#slicing is dataframe can be done by iloc"
   ]
  },
  {
   "cell_type": "code",
   "execution_count": 15,
   "id": "3f28fa7f",
   "metadata": {},
   "outputs": [
    {
     "data": {
      "text/html": [
       "<div>\n",
       "<style scoped>\n",
       "    .dataframe tbody tr th:only-of-type {\n",
       "        vertical-align: middle;\n",
       "    }\n",
       "\n",
       "    .dataframe tbody tr th {\n",
       "        vertical-align: top;\n",
       "    }\n",
       "\n",
       "    .dataframe thead th {\n",
       "        text-align: right;\n",
       "    }\n",
       "</style>\n",
       "<table border=\"1\" class=\"dataframe\">\n",
       "  <thead>\n",
       "    <tr style=\"text-align: right;\">\n",
       "      <th></th>\n",
       "      <th>distance</th>\n",
       "      <th>cab_type</th>\n",
       "      <th>time_stamp</th>\n",
       "      <th>destination</th>\n",
       "      <th>source</th>\n",
       "      <th>price</th>\n",
       "      <th>surge_multiplier</th>\n",
       "      <th>id</th>\n",
       "      <th>product_id</th>\n",
       "      <th>name</th>\n",
       "    </tr>\n",
       "  </thead>\n",
       "  <tbody>\n",
       "    <tr>\n",
       "      <th>0</th>\n",
       "      <td>0.44</td>\n",
       "      <td>Lyft</td>\n",
       "      <td>1544952607890</td>\n",
       "      <td>North Station</td>\n",
       "      <td>Haymarket Square</td>\n",
       "      <td>5.0</td>\n",
       "      <td>1.0</td>\n",
       "      <td>424553bb-7174-41ea-aeb4-fe06d4f4b9d7</td>\n",
       "      <td>lyft_line</td>\n",
       "      <td>Shared</td>\n",
       "    </tr>\n",
       "    <tr>\n",
       "      <th>1</th>\n",
       "      <td>0.44</td>\n",
       "      <td>Lyft</td>\n",
       "      <td>1543284023677</td>\n",
       "      <td>North Station</td>\n",
       "      <td>Haymarket Square</td>\n",
       "      <td>11.0</td>\n",
       "      <td>1.0</td>\n",
       "      <td>4bd23055-6827-41c6-b23b-3c491f24e74d</td>\n",
       "      <td>lyft_premier</td>\n",
       "      <td>Lux</td>\n",
       "    </tr>\n",
       "    <tr>\n",
       "      <th>2</th>\n",
       "      <td>0.44</td>\n",
       "      <td>Lyft</td>\n",
       "      <td>1543366822198</td>\n",
       "      <td>North Station</td>\n",
       "      <td>Haymarket Square</td>\n",
       "      <td>7.0</td>\n",
       "      <td>1.0</td>\n",
       "      <td>981a3613-77af-4620-a42a-0c0866077d1e</td>\n",
       "      <td>lyft</td>\n",
       "      <td>Lyft</td>\n",
       "    </tr>\n",
       "    <tr>\n",
       "      <th>3</th>\n",
       "      <td>0.44</td>\n",
       "      <td>Lyft</td>\n",
       "      <td>1543553582749</td>\n",
       "      <td>North Station</td>\n",
       "      <td>Haymarket Square</td>\n",
       "      <td>26.0</td>\n",
       "      <td>1.0</td>\n",
       "      <td>c2d88af2-d278-4bfd-a8d0-29ca77cc5512</td>\n",
       "      <td>lyft_luxsuv</td>\n",
       "      <td>Lux Black XL</td>\n",
       "    </tr>\n",
       "    <tr>\n",
       "      <th>4</th>\n",
       "      <td>0.44</td>\n",
       "      <td>Lyft</td>\n",
       "      <td>1543463360223</td>\n",
       "      <td>North Station</td>\n",
       "      <td>Haymarket Square</td>\n",
       "      <td>9.0</td>\n",
       "      <td>1.0</td>\n",
       "      <td>e0126e1f-8ca9-4f2e-82b3-50505a09db9a</td>\n",
       "      <td>lyft_plus</td>\n",
       "      <td>Lyft XL</td>\n",
       "    </tr>\n",
       "    <tr>\n",
       "      <th>...</th>\n",
       "      <td>...</td>\n",
       "      <td>...</td>\n",
       "      <td>...</td>\n",
       "      <td>...</td>\n",
       "      <td>...</td>\n",
       "      <td>...</td>\n",
       "      <td>...</td>\n",
       "      <td>...</td>\n",
       "      <td>...</td>\n",
       "      <td>...</td>\n",
       "    </tr>\n",
       "    <tr>\n",
       "      <th>691972</th>\n",
       "      <td>0.44</td>\n",
       "      <td>Lyft</td>\n",
       "      <td>1543898576366</td>\n",
       "      <td>South Station</td>\n",
       "      <td>Financial District</td>\n",
       "      <td>5.0</td>\n",
       "      <td>1.0</td>\n",
       "      <td>39e340a1-0806-41ec-828d-84651f00244e</td>\n",
       "      <td>lyft_line</td>\n",
       "      <td>Shared</td>\n",
       "    </tr>\n",
       "    <tr>\n",
       "      <th>691973</th>\n",
       "      <td>0.44</td>\n",
       "      <td>Lyft</td>\n",
       "      <td>1543898576366</td>\n",
       "      <td>South Station</td>\n",
       "      <td>Financial District</td>\n",
       "      <td>26.0</td>\n",
       "      <td>1.0</td>\n",
       "      <td>b9f1c63d-8006-4f39-b965-f2f46184dd4c</td>\n",
       "      <td>lyft_luxsuv</td>\n",
       "      <td>Lux Black XL</td>\n",
       "    </tr>\n",
       "    <tr>\n",
       "      <th>691974</th>\n",
       "      <td>0.44</td>\n",
       "      <td>Lyft</td>\n",
       "      <td>1543898576366</td>\n",
       "      <td>South Station</td>\n",
       "      <td>Financial District</td>\n",
       "      <td>7.0</td>\n",
       "      <td>1.0</td>\n",
       "      <td>e094b451-f863-44f1-a2fa-35ec90271f74</td>\n",
       "      <td>lyft</td>\n",
       "      <td>Lyft</td>\n",
       "    </tr>\n",
       "    <tr>\n",
       "      <th>691975</th>\n",
       "      <td>0.44</td>\n",
       "      <td>Lyft</td>\n",
       "      <td>1543898576366</td>\n",
       "      <td>South Station</td>\n",
       "      <td>Financial District</td>\n",
       "      <td>11.0</td>\n",
       "      <td>1.0</td>\n",
       "      <td>e4abab07-a700-4160-89e8-f76b4a1ffde4</td>\n",
       "      <td>lyft_premier</td>\n",
       "      <td>Lux</td>\n",
       "    </tr>\n",
       "    <tr>\n",
       "      <th>691976</th>\n",
       "      <td>0.44</td>\n",
       "      <td>Lyft</td>\n",
       "      <td>1543768683666</td>\n",
       "      <td>South Station</td>\n",
       "      <td>Financial District</td>\n",
       "      <td>9.0</td>\n",
       "      <td>1.0</td>\n",
       "      <td>f125003c-03c5-4479-a478-e74b89e25e55</td>\n",
       "      <td>lyft_plus</td>\n",
       "      <td>Lyft XL</td>\n",
       "    </tr>\n",
       "  </tbody>\n",
       "</table>\n",
       "<p>1320 rows × 10 columns</p>\n",
       "</div>"
      ],
      "text/plain": [
       "        distance cab_type     time_stamp    destination              source  \\\n",
       "0           0.44     Lyft  1544952607890  North Station    Haymarket Square   \n",
       "1           0.44     Lyft  1543284023677  North Station    Haymarket Square   \n",
       "2           0.44     Lyft  1543366822198  North Station    Haymarket Square   \n",
       "3           0.44     Lyft  1543553582749  North Station    Haymarket Square   \n",
       "4           0.44     Lyft  1543463360223  North Station    Haymarket Square   \n",
       "...          ...      ...            ...            ...                 ...   \n",
       "691972      0.44     Lyft  1543898576366  South Station  Financial District   \n",
       "691973      0.44     Lyft  1543898576366  South Station  Financial District   \n",
       "691974      0.44     Lyft  1543898576366  South Station  Financial District   \n",
       "691975      0.44     Lyft  1543898576366  South Station  Financial District   \n",
       "691976      0.44     Lyft  1543768683666  South Station  Financial District   \n",
       "\n",
       "        price  surge_multiplier                                    id  \\\n",
       "0         5.0               1.0  424553bb-7174-41ea-aeb4-fe06d4f4b9d7   \n",
       "1        11.0               1.0  4bd23055-6827-41c6-b23b-3c491f24e74d   \n",
       "2         7.0               1.0  981a3613-77af-4620-a42a-0c0866077d1e   \n",
       "3        26.0               1.0  c2d88af2-d278-4bfd-a8d0-29ca77cc5512   \n",
       "4         9.0               1.0  e0126e1f-8ca9-4f2e-82b3-50505a09db9a   \n",
       "...       ...               ...                                   ...   \n",
       "691972    5.0               1.0  39e340a1-0806-41ec-828d-84651f00244e   \n",
       "691973   26.0               1.0  b9f1c63d-8006-4f39-b965-f2f46184dd4c   \n",
       "691974    7.0               1.0  e094b451-f863-44f1-a2fa-35ec90271f74   \n",
       "691975   11.0               1.0  e4abab07-a700-4160-89e8-f76b4a1ffde4   \n",
       "691976    9.0               1.0  f125003c-03c5-4479-a478-e74b89e25e55   \n",
       "\n",
       "          product_id          name  \n",
       "0          lyft_line        Shared  \n",
       "1       lyft_premier           Lux  \n",
       "2               lyft          Lyft  \n",
       "3        lyft_luxsuv  Lux Black XL  \n",
       "4          lyft_plus       Lyft XL  \n",
       "...              ...           ...  \n",
       "691972     lyft_line        Shared  \n",
       "691973   lyft_luxsuv  Lux Black XL  \n",
       "691974          lyft          Lyft  \n",
       "691975  lyft_premier           Lux  \n",
       "691976     lyft_plus       Lyft XL  \n",
       "\n",
       "[1320 rows x 10 columns]"
      ]
     },
     "execution_count": 15,
     "metadata": {},
     "output_type": "execute_result"
    }
   ],
   "source": [
    "#loc\n",
    "\n",
    "df2=df.loc[df[\"distance\"]==0.44]\n",
    "df2"
   ]
  },
  {
   "cell_type": "code",
   "execution_count": 16,
   "id": "5fd00f4b",
   "metadata": {},
   "outputs": [
    {
     "data": {
      "text/html": [
       "<div>\n",
       "<style scoped>\n",
       "    .dataframe tbody tr th:only-of-type {\n",
       "        vertical-align: middle;\n",
       "    }\n",
       "\n",
       "    .dataframe tbody tr th {\n",
       "        vertical-align: top;\n",
       "    }\n",
       "\n",
       "    .dataframe thead th {\n",
       "        text-align: right;\n",
       "    }\n",
       "</style>\n",
       "<table border=\"1\" class=\"dataframe\">\n",
       "  <thead>\n",
       "    <tr style=\"text-align: right;\">\n",
       "      <th></th>\n",
       "      <th>distance</th>\n",
       "      <th>cab_type</th>\n",
       "      <th>time_stamp</th>\n",
       "      <th>destination</th>\n",
       "      <th>source</th>\n",
       "      <th>price</th>\n",
       "      <th>surge_multiplier</th>\n",
       "      <th>id</th>\n",
       "      <th>product_id</th>\n",
       "      <th>name</th>\n",
       "    </tr>\n",
       "  </thead>\n",
       "  <tbody>\n",
       "    <tr>\n",
       "      <th>0</th>\n",
       "      <td>0.44</td>\n",
       "      <td>Lyft</td>\n",
       "      <td>1544952607890</td>\n",
       "      <td>North Station</td>\n",
       "      <td>Haymarket Square</td>\n",
       "      <td>5.0</td>\n",
       "      <td>1.0</td>\n",
       "      <td>424553bb-7174-41ea-aeb4-fe06d4f4b9d7</td>\n",
       "      <td>lyft_line</td>\n",
       "      <td>Shared</td>\n",
       "    </tr>\n",
       "    <tr>\n",
       "      <th>1516</th>\n",
       "      <td>0.44</td>\n",
       "      <td>Lyft</td>\n",
       "      <td>1543747082803</td>\n",
       "      <td>South Station</td>\n",
       "      <td>Financial District</td>\n",
       "      <td>5.0</td>\n",
       "      <td>1.0</td>\n",
       "      <td>00e45042-50ed-4683-b213-14967ab2f873</td>\n",
       "      <td>lyft_line</td>\n",
       "      <td>Shared</td>\n",
       "    </tr>\n",
       "    <tr>\n",
       "      <th>11386</th>\n",
       "      <td>0.44</td>\n",
       "      <td>Lyft</td>\n",
       "      <td>1543847276144</td>\n",
       "      <td>South Station</td>\n",
       "      <td>Financial District</td>\n",
       "      <td>5.0</td>\n",
       "      <td>1.0</td>\n",
       "      <td>2d1a287f-6253-4ba3-961a-d8fbdd1bf83a</td>\n",
       "      <td>lyft_line</td>\n",
       "      <td>Shared</td>\n",
       "    </tr>\n",
       "    <tr>\n",
       "      <th>17218</th>\n",
       "      <td>0.44</td>\n",
       "      <td>Lyft</td>\n",
       "      <td>1543419488164</td>\n",
       "      <td>South Station</td>\n",
       "      <td>Financial District</td>\n",
       "      <td>5.0</td>\n",
       "      <td>1.0</td>\n",
       "      <td>37f2887a-b374-45c3-b6c7-9061795e1830</td>\n",
       "      <td>lyft_line</td>\n",
       "      <td>Shared</td>\n",
       "    </tr>\n",
       "    <tr>\n",
       "      <th>24229</th>\n",
       "      <td>0.44</td>\n",
       "      <td>Lyft</td>\n",
       "      <td>1543423283646</td>\n",
       "      <td>South Station</td>\n",
       "      <td>Financial District</td>\n",
       "      <td>5.0</td>\n",
       "      <td>1.0</td>\n",
       "      <td>1d7c8020-6d3e-41b5-956c-d83077f89066</td>\n",
       "      <td>lyft_line</td>\n",
       "      <td>Shared</td>\n",
       "    </tr>\n",
       "    <tr>\n",
       "      <th>...</th>\n",
       "      <td>...</td>\n",
       "      <td>...</td>\n",
       "      <td>...</td>\n",
       "      <td>...</td>\n",
       "      <td>...</td>\n",
       "      <td>...</td>\n",
       "      <td>...</td>\n",
       "      <td>...</td>\n",
       "      <td>...</td>\n",
       "      <td>...</td>\n",
       "    </tr>\n",
       "    <tr>\n",
       "      <th>684348</th>\n",
       "      <td>0.44</td>\n",
       "      <td>Lyft</td>\n",
       "      <td>1544700307059</td>\n",
       "      <td>South Station</td>\n",
       "      <td>Financial District</td>\n",
       "      <td>5.0</td>\n",
       "      <td>1.0</td>\n",
       "      <td>79ce8d13-0531-472f-b277-3fdb9b7c49e7</td>\n",
       "      <td>lyft_line</td>\n",
       "      <td>Shared</td>\n",
       "    </tr>\n",
       "    <tr>\n",
       "      <th>686944</th>\n",
       "      <td>0.44</td>\n",
       "      <td>Lyft</td>\n",
       "      <td>1543282402157</td>\n",
       "      <td>South Station</td>\n",
       "      <td>Financial District</td>\n",
       "      <td>5.0</td>\n",
       "      <td>1.0</td>\n",
       "      <td>6313fbcf-6304-46c8-9569-78c55bde99f8</td>\n",
       "      <td>lyft_line</td>\n",
       "      <td>Shared</td>\n",
       "    </tr>\n",
       "    <tr>\n",
       "      <th>690266</th>\n",
       "      <td>0.44</td>\n",
       "      <td>Lyft</td>\n",
       "      <td>1543312642208</td>\n",
       "      <td>North Station</td>\n",
       "      <td>Haymarket Square</td>\n",
       "      <td>5.0</td>\n",
       "      <td>1.0</td>\n",
       "      <td>9e9af483-b561-4fd2-85d7-145e75f9c7a2</td>\n",
       "      <td>lyft_line</td>\n",
       "      <td>Shared</td>\n",
       "    </tr>\n",
       "    <tr>\n",
       "      <th>690319</th>\n",
       "      <td>0.44</td>\n",
       "      <td>Lyft</td>\n",
       "      <td>1544707804967</td>\n",
       "      <td>South Station</td>\n",
       "      <td>Financial District</td>\n",
       "      <td>5.0</td>\n",
       "      <td>1.0</td>\n",
       "      <td>62e551fd-51b2-4087-bd19-7bbd30ebae54</td>\n",
       "      <td>lyft_line</td>\n",
       "      <td>Shared</td>\n",
       "    </tr>\n",
       "    <tr>\n",
       "      <th>691972</th>\n",
       "      <td>0.44</td>\n",
       "      <td>Lyft</td>\n",
       "      <td>1543898576366</td>\n",
       "      <td>South Station</td>\n",
       "      <td>Financial District</td>\n",
       "      <td>5.0</td>\n",
       "      <td>1.0</td>\n",
       "      <td>39e340a1-0806-41ec-828d-84651f00244e</td>\n",
       "      <td>lyft_line</td>\n",
       "      <td>Shared</td>\n",
       "    </tr>\n",
       "  </tbody>\n",
       "</table>\n",
       "<p>115 rows × 10 columns</p>\n",
       "</div>"
      ],
      "text/plain": [
       "        distance cab_type     time_stamp    destination              source  \\\n",
       "0           0.44     Lyft  1544952607890  North Station    Haymarket Square   \n",
       "1516        0.44     Lyft  1543747082803  South Station  Financial District   \n",
       "11386       0.44     Lyft  1543847276144  South Station  Financial District   \n",
       "17218       0.44     Lyft  1543419488164  South Station  Financial District   \n",
       "24229       0.44     Lyft  1543423283646  South Station  Financial District   \n",
       "...          ...      ...            ...            ...                 ...   \n",
       "684348      0.44     Lyft  1544700307059  South Station  Financial District   \n",
       "686944      0.44     Lyft  1543282402157  South Station  Financial District   \n",
       "690266      0.44     Lyft  1543312642208  North Station    Haymarket Square   \n",
       "690319      0.44     Lyft  1544707804967  South Station  Financial District   \n",
       "691972      0.44     Lyft  1543898576366  South Station  Financial District   \n",
       "\n",
       "        price  surge_multiplier                                    id  \\\n",
       "0         5.0               1.0  424553bb-7174-41ea-aeb4-fe06d4f4b9d7   \n",
       "1516      5.0               1.0  00e45042-50ed-4683-b213-14967ab2f873   \n",
       "11386     5.0               1.0  2d1a287f-6253-4ba3-961a-d8fbdd1bf83a   \n",
       "17218     5.0               1.0  37f2887a-b374-45c3-b6c7-9061795e1830   \n",
       "24229     5.0               1.0  1d7c8020-6d3e-41b5-956c-d83077f89066   \n",
       "...       ...               ...                                   ...   \n",
       "684348    5.0               1.0  79ce8d13-0531-472f-b277-3fdb9b7c49e7   \n",
       "686944    5.0               1.0  6313fbcf-6304-46c8-9569-78c55bde99f8   \n",
       "690266    5.0               1.0  9e9af483-b561-4fd2-85d7-145e75f9c7a2   \n",
       "690319    5.0               1.0  62e551fd-51b2-4087-bd19-7bbd30ebae54   \n",
       "691972    5.0               1.0  39e340a1-0806-41ec-828d-84651f00244e   \n",
       "\n",
       "       product_id    name  \n",
       "0       lyft_line  Shared  \n",
       "1516    lyft_line  Shared  \n",
       "11386   lyft_line  Shared  \n",
       "17218   lyft_line  Shared  \n",
       "24229   lyft_line  Shared  \n",
       "...           ...     ...  \n",
       "684348  lyft_line  Shared  \n",
       "686944  lyft_line  Shared  \n",
       "690266  lyft_line  Shared  \n",
       "690319  lyft_line  Shared  \n",
       "691972  lyft_line  Shared  \n",
       "\n",
       "[115 rows x 10 columns]"
      ]
     },
     "execution_count": 16,
     "metadata": {},
     "output_type": "execute_result"
    }
   ],
   "source": [
    "\n",
    "df3=df[(df[\"distance\"]==0.44) & (df[\"price\"]==5.0)]\n",
    "df3\n",
    "\n",
    "#we have to bitwise operator here"
   ]
  },
  {
   "cell_type": "code",
   "execution_count": 17,
   "id": "cde749af",
   "metadata": {},
   "outputs": [
    {
     "data": {
      "text/html": [
       "<div>\n",
       "<style scoped>\n",
       "    .dataframe tbody tr th:only-of-type {\n",
       "        vertical-align: middle;\n",
       "    }\n",
       "\n",
       "    .dataframe tbody tr th {\n",
       "        vertical-align: top;\n",
       "    }\n",
       "\n",
       "    .dataframe thead th {\n",
       "        text-align: right;\n",
       "    }\n",
       "</style>\n",
       "<table border=\"1\" class=\"dataframe\">\n",
       "  <thead>\n",
       "    <tr style=\"text-align: right;\">\n",
       "      <th></th>\n",
       "      <th>distance</th>\n",
       "      <th>cab_type</th>\n",
       "      <th>time_stamp</th>\n",
       "      <th>destination</th>\n",
       "      <th>source</th>\n",
       "      <th>price</th>\n",
       "      <th>surge_multiplier</th>\n",
       "      <th>id</th>\n",
       "      <th>product_id</th>\n",
       "      <th>name</th>\n",
       "    </tr>\n",
       "  </thead>\n",
       "  <tbody>\n",
       "    <tr>\n",
       "      <th>44</th>\n",
       "      <td>1.76</td>\n",
       "      <td>Lyft</td>\n",
       "      <td>1543400227398</td>\n",
       "      <td>South Station</td>\n",
       "      <td>North Station</td>\n",
       "      <td>5.0</td>\n",
       "      <td>1.0</td>\n",
       "      <td>0c26c153-a58d-419d-b557-37cfad67585c</td>\n",
       "      <td>lyft_line</td>\n",
       "      <td>Shared</td>\n",
       "    </tr>\n",
       "    <tr>\n",
       "      <th>45</th>\n",
       "      <td>1.76</td>\n",
       "      <td>Lyft</td>\n",
       "      <td>1544963414097</td>\n",
       "      <td>South Station</td>\n",
       "      <td>North Station</td>\n",
       "      <td>9.0</td>\n",
       "      <td>1.0</td>\n",
       "      <td>104ced5c-1c1b-4021-94bb-b21af453399a</td>\n",
       "      <td>lyft</td>\n",
       "      <td>Lyft</td>\n",
       "    </tr>\n",
       "    <tr>\n",
       "      <th>46</th>\n",
       "      <td>1.76</td>\n",
       "      <td>Lyft</td>\n",
       "      <td>1544920811287</td>\n",
       "      <td>South Station</td>\n",
       "      <td>North Station</td>\n",
       "      <td>16.5</td>\n",
       "      <td>1.0</td>\n",
       "      <td>1cf8a0a5-d871-41ba-91c7-53658851501e</td>\n",
       "      <td>lyft_premier</td>\n",
       "      <td>Lux</td>\n",
       "    </tr>\n",
       "    <tr>\n",
       "      <th>47</th>\n",
       "      <td>1.76</td>\n",
       "      <td>Lyft</td>\n",
       "      <td>1544883309320</td>\n",
       "      <td>South Station</td>\n",
       "      <td>North Station</td>\n",
       "      <td>26.0</td>\n",
       "      <td>1.0</td>\n",
       "      <td>5e990c7a-8f5c-4583-812c-b6200dd018f6</td>\n",
       "      <td>lyft_luxsuv</td>\n",
       "      <td>Lux Black XL</td>\n",
       "    </tr>\n",
       "    <tr>\n",
       "      <th>48</th>\n",
       "      <td>1.76</td>\n",
       "      <td>Lyft</td>\n",
       "      <td>1543312822029</td>\n",
       "      <td>South Station</td>\n",
       "      <td>North Station</td>\n",
       "      <td>13.5</td>\n",
       "      <td>1.0</td>\n",
       "      <td>bd1d5b1a-ed7f-4fc8-8fd1-9236a5de403e</td>\n",
       "      <td>lyft_plus</td>\n",
       "      <td>Lyft XL</td>\n",
       "    </tr>\n",
       "    <tr>\n",
       "      <th>...</th>\n",
       "      <td>...</td>\n",
       "      <td>...</td>\n",
       "      <td>...</td>\n",
       "      <td>...</td>\n",
       "      <td>...</td>\n",
       "      <td>...</td>\n",
       "      <td>...</td>\n",
       "      <td>...</td>\n",
       "      <td>...</td>\n",
       "      <td>...</td>\n",
       "    </tr>\n",
       "    <tr>\n",
       "      <th>692907</th>\n",
       "      <td>1.42</td>\n",
       "      <td>Lyft</td>\n",
       "      <td>1543619282139</td>\n",
       "      <td>South Station</td>\n",
       "      <td>Back Bay</td>\n",
       "      <td>13.5</td>\n",
       "      <td>1.0</td>\n",
       "      <td>45131b96-c277-4449-bcc7-850795aa56ad</td>\n",
       "      <td>lyft_plus</td>\n",
       "      <td>Lyft XL</td>\n",
       "    </tr>\n",
       "    <tr>\n",
       "      <th>692908</th>\n",
       "      <td>1.42</td>\n",
       "      <td>Lyft</td>\n",
       "      <td>1543619282139</td>\n",
       "      <td>South Station</td>\n",
       "      <td>Back Bay</td>\n",
       "      <td>3.0</td>\n",
       "      <td>1.0</td>\n",
       "      <td>47f07b7d-9cbe-413b-b85f-bba3354f5704</td>\n",
       "      <td>lyft_line</td>\n",
       "      <td>Shared</td>\n",
       "    </tr>\n",
       "    <tr>\n",
       "      <th>692909</th>\n",
       "      <td>1.42</td>\n",
       "      <td>Lyft</td>\n",
       "      <td>1543619282139</td>\n",
       "      <td>South Station</td>\n",
       "      <td>Back Bay</td>\n",
       "      <td>27.5</td>\n",
       "      <td>1.0</td>\n",
       "      <td>4edb1d6d-b951-43d6-9d27-d48ccae17c3a</td>\n",
       "      <td>lyft_luxsuv</td>\n",
       "      <td>Lux Black XL</td>\n",
       "    </tr>\n",
       "    <tr>\n",
       "      <th>692910</th>\n",
       "      <td>1.42</td>\n",
       "      <td>Lyft</td>\n",
       "      <td>1543619282139</td>\n",
       "      <td>South Station</td>\n",
       "      <td>Back Bay</td>\n",
       "      <td>9.0</td>\n",
       "      <td>1.0</td>\n",
       "      <td>59f9483c-cf6b-4a48-9b95-a18f3091f5ff</td>\n",
       "      <td>lyft</td>\n",
       "      <td>Lyft</td>\n",
       "    </tr>\n",
       "    <tr>\n",
       "      <th>692911</th>\n",
       "      <td>1.42</td>\n",
       "      <td>Lyft</td>\n",
       "      <td>1543619282139</td>\n",
       "      <td>South Station</td>\n",
       "      <td>Back Bay</td>\n",
       "      <td>13.5</td>\n",
       "      <td>1.0</td>\n",
       "      <td>67ab66f0-e10a-4a92-9df3-164675c92df8</td>\n",
       "      <td>lyft_premier</td>\n",
       "      <td>Lux</td>\n",
       "    </tr>\n",
       "  </tbody>\n",
       "</table>\n",
       "<p>23910 rows × 10 columns</p>\n",
       "</div>"
      ],
      "text/plain": [
       "        distance cab_type     time_stamp    destination         source  price  \\\n",
       "44          1.76     Lyft  1543400227398  South Station  North Station    5.0   \n",
       "45          1.76     Lyft  1544963414097  South Station  North Station    9.0   \n",
       "46          1.76     Lyft  1544920811287  South Station  North Station   16.5   \n",
       "47          1.76     Lyft  1544883309320  South Station  North Station   26.0   \n",
       "48          1.76     Lyft  1543312822029  South Station  North Station   13.5   \n",
       "...          ...      ...            ...            ...            ...    ...   \n",
       "692907      1.42     Lyft  1543619282139  South Station       Back Bay   13.5   \n",
       "692908      1.42     Lyft  1543619282139  South Station       Back Bay    3.0   \n",
       "692909      1.42     Lyft  1543619282139  South Station       Back Bay   27.5   \n",
       "692910      1.42     Lyft  1543619282139  South Station       Back Bay    9.0   \n",
       "692911      1.42     Lyft  1543619282139  South Station       Back Bay   13.5   \n",
       "\n",
       "        surge_multiplier                                    id    product_id  \\\n",
       "44                   1.0  0c26c153-a58d-419d-b557-37cfad67585c     lyft_line   \n",
       "45                   1.0  104ced5c-1c1b-4021-94bb-b21af453399a          lyft   \n",
       "46                   1.0  1cf8a0a5-d871-41ba-91c7-53658851501e  lyft_premier   \n",
       "47                   1.0  5e990c7a-8f5c-4583-812c-b6200dd018f6   lyft_luxsuv   \n",
       "48                   1.0  bd1d5b1a-ed7f-4fc8-8fd1-9236a5de403e     lyft_plus   \n",
       "...                  ...                                   ...           ...   \n",
       "692907               1.0  45131b96-c277-4449-bcc7-850795aa56ad     lyft_plus   \n",
       "692908               1.0  47f07b7d-9cbe-413b-b85f-bba3354f5704     lyft_line   \n",
       "692909               1.0  4edb1d6d-b951-43d6-9d27-d48ccae17c3a   lyft_luxsuv   \n",
       "692910               1.0  59f9483c-cf6b-4a48-9b95-a18f3091f5ff          lyft   \n",
       "692911               1.0  67ab66f0-e10a-4a92-9df3-164675c92df8  lyft_premier   \n",
       "\n",
       "                name  \n",
       "44            Shared  \n",
       "45              Lyft  \n",
       "46               Lux  \n",
       "47      Lux Black XL  \n",
       "48           Lyft XL  \n",
       "...              ...  \n",
       "692907       Lyft XL  \n",
       "692908        Shared  \n",
       "692909  Lux Black XL  \n",
       "692910          Lyft  \n",
       "692911           Lux  \n",
       "\n",
       "[23910 rows x 10 columns]"
      ]
     },
     "execution_count": 17,
     "metadata": {},
     "output_type": "execute_result"
    }
   ],
   "source": [
    "# return me the dataframe where destination is South Station, \n",
    "#surge is 1.0, cab type is Lyft.\n",
    "\n",
    "\n",
    "df5=df[(df.destination==\"South Station\") & (df.surge_multiplier==1.0) & (df.cab_type==\"Lyft\")]\n",
    "\n",
    "df5"
   ]
  },
  {
   "cell_type": "markdown",
   "id": "4eff57b9",
   "metadata": {},
   "source": [
    "# sorting values in dataframe"
   ]
  },
  {
   "cell_type": "code",
   "execution_count": 18,
   "id": "69f5db68",
   "metadata": {},
   "outputs": [
    {
     "data": {
      "text/html": [
       "<div>\n",
       "<style scoped>\n",
       "    .dataframe tbody tr th:only-of-type {\n",
       "        vertical-align: middle;\n",
       "    }\n",
       "\n",
       "    .dataframe tbody tr th {\n",
       "        vertical-align: top;\n",
       "    }\n",
       "\n",
       "    .dataframe thead th {\n",
       "        text-align: right;\n",
       "    }\n",
       "</style>\n",
       "<table border=\"1\" class=\"dataframe\">\n",
       "  <thead>\n",
       "    <tr style=\"text-align: right;\">\n",
       "      <th></th>\n",
       "      <th>distance</th>\n",
       "      <th>cab_type</th>\n",
       "      <th>time_stamp</th>\n",
       "      <th>destination</th>\n",
       "      <th>source</th>\n",
       "      <th>price</th>\n",
       "      <th>surge_multiplier</th>\n",
       "      <th>id</th>\n",
       "      <th>product_id</th>\n",
       "      <th>name</th>\n",
       "    </tr>\n",
       "  </thead>\n",
       "  <tbody>\n",
       "    <tr>\n",
       "      <th>658723</th>\n",
       "      <td>7.86</td>\n",
       "      <td>Uber</td>\n",
       "      <td>1545063010990</td>\n",
       "      <td>Financial District</td>\n",
       "      <td>Northeastern University</td>\n",
       "      <td>17.5</td>\n",
       "      <td>1.0</td>\n",
       "      <td>03832272-f604-4c54-845a-b55387703959</td>\n",
       "      <td>55c66225-fbe7-4fd5-9072-eab1ece5e23e</td>\n",
       "      <td>UberX</td>\n",
       "    </tr>\n",
       "    <tr>\n",
       "      <th>658724</th>\n",
       "      <td>7.86</td>\n",
       "      <td>Uber</td>\n",
       "      <td>1545063010990</td>\n",
       "      <td>Financial District</td>\n",
       "      <td>Northeastern University</td>\n",
       "      <td>36.0</td>\n",
       "      <td>1.0</td>\n",
       "      <td>15582e0b-da46-439e-abfa-a6af0deead98</td>\n",
       "      <td>6c84fd89-3f11-4782-9b50-97c468b19529</td>\n",
       "      <td>Black</td>\n",
       "    </tr>\n",
       "    <tr>\n",
       "      <th>658725</th>\n",
       "      <td>7.86</td>\n",
       "      <td>Uber</td>\n",
       "      <td>1544850306199</td>\n",
       "      <td>Financial District</td>\n",
       "      <td>Northeastern University</td>\n",
       "      <td>17.5</td>\n",
       "      <td>1.0</td>\n",
       "      <td>2596d91f-64fd-4235-b401-f48997b4b38b</td>\n",
       "      <td>9a0e7b09-b92b-4c41-9779-2ad22b4d779d</td>\n",
       "      <td>WAV</td>\n",
       "    </tr>\n",
       "    <tr>\n",
       "      <th>658726</th>\n",
       "      <td>7.86</td>\n",
       "      <td>Uber</td>\n",
       "      <td>1544850306199</td>\n",
       "      <td>Financial District</td>\n",
       "      <td>Northeastern University</td>\n",
       "      <td>13.5</td>\n",
       "      <td>1.0</td>\n",
       "      <td>5bab99ba-9e97-423b-8129-41999254ae05</td>\n",
       "      <td>997acbb5-e102-41e1-b155-9df7de0a73f2</td>\n",
       "      <td>UberPool</td>\n",
       "    </tr>\n",
       "    <tr>\n",
       "      <th>658727</th>\n",
       "      <td>7.86</td>\n",
       "      <td>Uber</td>\n",
       "      <td>1544850306199</td>\n",
       "      <td>Financial District</td>\n",
       "      <td>Northeastern University</td>\n",
       "      <td>NaN</td>\n",
       "      <td>1.0</td>\n",
       "      <td>8108cdde-7589-4569-8031-fb0e75e9f925</td>\n",
       "      <td>8cf7e821-f0d3-49c6-8eba-e679c0ebcf6a</td>\n",
       "      <td>Taxi</td>\n",
       "    </tr>\n",
       "    <tr>\n",
       "      <th>...</th>\n",
       "      <td>...</td>\n",
       "      <td>...</td>\n",
       "      <td>...</td>\n",
       "      <td>...</td>\n",
       "      <td>...</td>\n",
       "      <td>...</td>\n",
       "      <td>...</td>\n",
       "      <td>...</td>\n",
       "      <td>...</td>\n",
       "      <td>...</td>\n",
       "    </tr>\n",
       "    <tr>\n",
       "      <th>172933</th>\n",
       "      <td>0.02</td>\n",
       "      <td>Uber</td>\n",
       "      <td>1544397507859</td>\n",
       "      <td>South Station</td>\n",
       "      <td>Theatre District</td>\n",
       "      <td>NaN</td>\n",
       "      <td>1.0</td>\n",
       "      <td>182e52da-7112-4d3e-b3c8-d112b3cee710</td>\n",
       "      <td>8cf7e821-f0d3-49c6-8eba-e679c0ebcf6a</td>\n",
       "      <td>Taxi</td>\n",
       "    </tr>\n",
       "    <tr>\n",
       "      <th>172932</th>\n",
       "      <td>0.02</td>\n",
       "      <td>Uber</td>\n",
       "      <td>1544397507859</td>\n",
       "      <td>South Station</td>\n",
       "      <td>Theatre District</td>\n",
       "      <td>27.5</td>\n",
       "      <td>1.0</td>\n",
       "      <td>0d3a073e-94c6-4b77-92ef-d2eb9eaac346</td>\n",
       "      <td>6d318bcc-22a3-4af6-bddd-b409bfce1546</td>\n",
       "      <td>Black SUV</td>\n",
       "    </tr>\n",
       "    <tr>\n",
       "      <th>283073</th>\n",
       "      <td>0.02</td>\n",
       "      <td>Uber</td>\n",
       "      <td>1544885412017</td>\n",
       "      <td>Theatre District</td>\n",
       "      <td>South Station</td>\n",
       "      <td>6.5</td>\n",
       "      <td>1.0</td>\n",
       "      <td>dd9f8988-4428-418c-ad99-fffc024c51ca</td>\n",
       "      <td>9a0e7b09-b92b-4c41-9779-2ad22b4d779d</td>\n",
       "      <td>WAV</td>\n",
       "    </tr>\n",
       "    <tr>\n",
       "      <th>283074</th>\n",
       "      <td>0.02</td>\n",
       "      <td>Uber</td>\n",
       "      <td>1544934313639</td>\n",
       "      <td>Theatre District</td>\n",
       "      <td>South Station</td>\n",
       "      <td>6.5</td>\n",
       "      <td>1.0</td>\n",
       "      <td>de13d5c0-799c-4b15-b938-d954513ad934</td>\n",
       "      <td>55c66225-fbe7-4fd5-9072-eab1ece5e23e</td>\n",
       "      <td>UberX</td>\n",
       "    </tr>\n",
       "    <tr>\n",
       "      <th>283071</th>\n",
       "      <td>0.02</td>\n",
       "      <td>Uber</td>\n",
       "      <td>1544885412017</td>\n",
       "      <td>Theatre District</td>\n",
       "      <td>South Station</td>\n",
       "      <td>NaN</td>\n",
       "      <td>1.0</td>\n",
       "      <td>cee0e184-f4b7-472e-b3c1-7b997b77847c</td>\n",
       "      <td>8cf7e821-f0d3-49c6-8eba-e679c0ebcf6a</td>\n",
       "      <td>Taxi</td>\n",
       "    </tr>\n",
       "  </tbody>\n",
       "</table>\n",
       "<p>693071 rows × 10 columns</p>\n",
       "</div>"
      ],
      "text/plain": [
       "        distance cab_type     time_stamp         destination  \\\n",
       "658723      7.86     Uber  1545063010990  Financial District   \n",
       "658724      7.86     Uber  1545063010990  Financial District   \n",
       "658725      7.86     Uber  1544850306199  Financial District   \n",
       "658726      7.86     Uber  1544850306199  Financial District   \n",
       "658727      7.86     Uber  1544850306199  Financial District   \n",
       "...          ...      ...            ...                 ...   \n",
       "172933      0.02     Uber  1544397507859       South Station   \n",
       "172932      0.02     Uber  1544397507859       South Station   \n",
       "283073      0.02     Uber  1544885412017    Theatre District   \n",
       "283074      0.02     Uber  1544934313639    Theatre District   \n",
       "283071      0.02     Uber  1544885412017    Theatre District   \n",
       "\n",
       "                         source  price  surge_multiplier  \\\n",
       "658723  Northeastern University   17.5               1.0   \n",
       "658724  Northeastern University   36.0               1.0   \n",
       "658725  Northeastern University   17.5               1.0   \n",
       "658726  Northeastern University   13.5               1.0   \n",
       "658727  Northeastern University    NaN               1.0   \n",
       "...                         ...    ...               ...   \n",
       "172933         Theatre District    NaN               1.0   \n",
       "172932         Theatre District   27.5               1.0   \n",
       "283073            South Station    6.5               1.0   \n",
       "283074            South Station    6.5               1.0   \n",
       "283071            South Station    NaN               1.0   \n",
       "\n",
       "                                          id  \\\n",
       "658723  03832272-f604-4c54-845a-b55387703959   \n",
       "658724  15582e0b-da46-439e-abfa-a6af0deead98   \n",
       "658725  2596d91f-64fd-4235-b401-f48997b4b38b   \n",
       "658726  5bab99ba-9e97-423b-8129-41999254ae05   \n",
       "658727  8108cdde-7589-4569-8031-fb0e75e9f925   \n",
       "...                                      ...   \n",
       "172933  182e52da-7112-4d3e-b3c8-d112b3cee710   \n",
       "172932  0d3a073e-94c6-4b77-92ef-d2eb9eaac346   \n",
       "283073  dd9f8988-4428-418c-ad99-fffc024c51ca   \n",
       "283074  de13d5c0-799c-4b15-b938-d954513ad934   \n",
       "283071  cee0e184-f4b7-472e-b3c1-7b997b77847c   \n",
       "\n",
       "                                  product_id       name  \n",
       "658723  55c66225-fbe7-4fd5-9072-eab1ece5e23e      UberX  \n",
       "658724  6c84fd89-3f11-4782-9b50-97c468b19529      Black  \n",
       "658725  9a0e7b09-b92b-4c41-9779-2ad22b4d779d        WAV  \n",
       "658726  997acbb5-e102-41e1-b155-9df7de0a73f2   UberPool  \n",
       "658727  8cf7e821-f0d3-49c6-8eba-e679c0ebcf6a       Taxi  \n",
       "...                                      ...        ...  \n",
       "172933  8cf7e821-f0d3-49c6-8eba-e679c0ebcf6a       Taxi  \n",
       "172932  6d318bcc-22a3-4af6-bddd-b409bfce1546  Black SUV  \n",
       "283073  9a0e7b09-b92b-4c41-9779-2ad22b4d779d        WAV  \n",
       "283074  55c66225-fbe7-4fd5-9072-eab1ece5e23e      UberX  \n",
       "283071  8cf7e821-f0d3-49c6-8eba-e679c0ebcf6a       Taxi  \n",
       "\n",
       "[693071 rows x 10 columns]"
      ]
     },
     "execution_count": 18,
     "metadata": {},
     "output_type": "execute_result"
    }
   ],
   "source": [
    "df.sort_values(by=[\"distance\"],ascending=False)"
   ]
  },
  {
   "cell_type": "code",
   "execution_count": 19,
   "id": "31ea3264",
   "metadata": {},
   "outputs": [
    {
     "data": {
      "text/html": [
       "<div>\n",
       "<style scoped>\n",
       "    .dataframe tbody tr th:only-of-type {\n",
       "        vertical-align: middle;\n",
       "    }\n",
       "\n",
       "    .dataframe tbody tr th {\n",
       "        vertical-align: top;\n",
       "    }\n",
       "\n",
       "    .dataframe thead th {\n",
       "        text-align: right;\n",
       "    }\n",
       "</style>\n",
       "<table border=\"1\" class=\"dataframe\">\n",
       "  <thead>\n",
       "    <tr style=\"text-align: right;\">\n",
       "      <th></th>\n",
       "      <th>distance</th>\n",
       "      <th>cab_type</th>\n",
       "      <th>time_stamp</th>\n",
       "      <th>destination</th>\n",
       "      <th>source</th>\n",
       "      <th>price</th>\n",
       "      <th>surge_multiplier</th>\n",
       "      <th>id</th>\n",
       "      <th>product_id</th>\n",
       "      <th>name</th>\n",
       "    </tr>\n",
       "  </thead>\n",
       "  <tbody>\n",
       "    <tr>\n",
       "      <th>658728</th>\n",
       "      <td>7.86</td>\n",
       "      <td>Uber</td>\n",
       "      <td>1544850306199</td>\n",
       "      <td>Financial District</td>\n",
       "      <td>Northeastern University</td>\n",
       "      <td>53.0</td>\n",
       "      <td>1.0</td>\n",
       "      <td>f40aa84e-fe70-4ef7-9860-9315fb8cd63f</td>\n",
       "      <td>6d318bcc-22a3-4af6-bddd-b409bfce1546</td>\n",
       "      <td>Black SUV</td>\n",
       "    </tr>\n",
       "    <tr>\n",
       "      <th>658724</th>\n",
       "      <td>7.86</td>\n",
       "      <td>Uber</td>\n",
       "      <td>1545063010990</td>\n",
       "      <td>Financial District</td>\n",
       "      <td>Northeastern University</td>\n",
       "      <td>36.0</td>\n",
       "      <td>1.0</td>\n",
       "      <td>15582e0b-da46-439e-abfa-a6af0deead98</td>\n",
       "      <td>6c84fd89-3f11-4782-9b50-97c468b19529</td>\n",
       "      <td>Black</td>\n",
       "    </tr>\n",
       "    <tr>\n",
       "      <th>658729</th>\n",
       "      <td>7.86</td>\n",
       "      <td>Uber</td>\n",
       "      <td>1544850306199</td>\n",
       "      <td>Financial District</td>\n",
       "      <td>Northeastern University</td>\n",
       "      <td>29.5</td>\n",
       "      <td>1.0</td>\n",
       "      <td>f70c929c-9476-42ec-8776-b9ff48e575cc</td>\n",
       "      <td>6f72dfc5-27f1-42e8-84db-ccc7a75f6969</td>\n",
       "      <td>UberXL</td>\n",
       "    </tr>\n",
       "    <tr>\n",
       "      <th>658723</th>\n",
       "      <td>7.86</td>\n",
       "      <td>Uber</td>\n",
       "      <td>1545063010990</td>\n",
       "      <td>Financial District</td>\n",
       "      <td>Northeastern University</td>\n",
       "      <td>17.5</td>\n",
       "      <td>1.0</td>\n",
       "      <td>03832272-f604-4c54-845a-b55387703959</td>\n",
       "      <td>55c66225-fbe7-4fd5-9072-eab1ece5e23e</td>\n",
       "      <td>UberX</td>\n",
       "    </tr>\n",
       "    <tr>\n",
       "      <th>658725</th>\n",
       "      <td>7.86</td>\n",
       "      <td>Uber</td>\n",
       "      <td>1544850306199</td>\n",
       "      <td>Financial District</td>\n",
       "      <td>Northeastern University</td>\n",
       "      <td>17.5</td>\n",
       "      <td>1.0</td>\n",
       "      <td>2596d91f-64fd-4235-b401-f48997b4b38b</td>\n",
       "      <td>9a0e7b09-b92b-4c41-9779-2ad22b4d779d</td>\n",
       "      <td>WAV</td>\n",
       "    </tr>\n",
       "    <tr>\n",
       "      <th>658726</th>\n",
       "      <td>7.86</td>\n",
       "      <td>Uber</td>\n",
       "      <td>1544850306199</td>\n",
       "      <td>Financial District</td>\n",
       "      <td>Northeastern University</td>\n",
       "      <td>13.5</td>\n",
       "      <td>1.0</td>\n",
       "      <td>5bab99ba-9e97-423b-8129-41999254ae05</td>\n",
       "      <td>997acbb5-e102-41e1-b155-9df7de0a73f2</td>\n",
       "      <td>UberPool</td>\n",
       "    </tr>\n",
       "    <tr>\n",
       "      <th>658727</th>\n",
       "      <td>7.86</td>\n",
       "      <td>Uber</td>\n",
       "      <td>1544850306199</td>\n",
       "      <td>Financial District</td>\n",
       "      <td>Northeastern University</td>\n",
       "      <td>NaN</td>\n",
       "      <td>1.0</td>\n",
       "      <td>8108cdde-7589-4569-8031-fb0e75e9f925</td>\n",
       "      <td>8cf7e821-f0d3-49c6-8eba-e679c0ebcf6a</td>\n",
       "      <td>Taxi</td>\n",
       "    </tr>\n",
       "    <tr>\n",
       "      <th>264125</th>\n",
       "      <td>7.62</td>\n",
       "      <td>Uber</td>\n",
       "      <td>1544804111665</td>\n",
       "      <td>Financial District</td>\n",
       "      <td>Fenway</td>\n",
       "      <td>51.5</td>\n",
       "      <td>1.0</td>\n",
       "      <td>dd50a0ed-3e96-4b9b-be65-570227197ffe</td>\n",
       "      <td>6d318bcc-22a3-4af6-bddd-b409bfce1546</td>\n",
       "      <td>Black SUV</td>\n",
       "    </tr>\n",
       "    <tr>\n",
       "      <th>264123</th>\n",
       "      <td>7.62</td>\n",
       "      <td>Uber</td>\n",
       "      <td>1544804111665</td>\n",
       "      <td>Financial District</td>\n",
       "      <td>Fenway</td>\n",
       "      <td>42.0</td>\n",
       "      <td>1.0</td>\n",
       "      <td>bd344de3-f305-4b55-8c46-9cf538d5d7fd</td>\n",
       "      <td>6c84fd89-3f11-4782-9b50-97c468b19529</td>\n",
       "      <td>Black</td>\n",
       "    </tr>\n",
       "    <tr>\n",
       "      <th>264120</th>\n",
       "      <td>7.62</td>\n",
       "      <td>Uber</td>\n",
       "      <td>1545139206476</td>\n",
       "      <td>Financial District</td>\n",
       "      <td>Fenway</td>\n",
       "      <td>28.5</td>\n",
       "      <td>1.0</td>\n",
       "      <td>69896fa3-570d-4355-92e7-578dc1945af3</td>\n",
       "      <td>6f72dfc5-27f1-42e8-84db-ccc7a75f6969</td>\n",
       "      <td>UberXL</td>\n",
       "    </tr>\n",
       "  </tbody>\n",
       "</table>\n",
       "</div>"
      ],
      "text/plain": [
       "        distance cab_type     time_stamp         destination  \\\n",
       "658728      7.86     Uber  1544850306199  Financial District   \n",
       "658724      7.86     Uber  1545063010990  Financial District   \n",
       "658729      7.86     Uber  1544850306199  Financial District   \n",
       "658723      7.86     Uber  1545063010990  Financial District   \n",
       "658725      7.86     Uber  1544850306199  Financial District   \n",
       "658726      7.86     Uber  1544850306199  Financial District   \n",
       "658727      7.86     Uber  1544850306199  Financial District   \n",
       "264125      7.62     Uber  1544804111665  Financial District   \n",
       "264123      7.62     Uber  1544804111665  Financial District   \n",
       "264120      7.62     Uber  1545139206476  Financial District   \n",
       "\n",
       "                         source  price  surge_multiplier  \\\n",
       "658728  Northeastern University   53.0               1.0   \n",
       "658724  Northeastern University   36.0               1.0   \n",
       "658729  Northeastern University   29.5               1.0   \n",
       "658723  Northeastern University   17.5               1.0   \n",
       "658725  Northeastern University   17.5               1.0   \n",
       "658726  Northeastern University   13.5               1.0   \n",
       "658727  Northeastern University    NaN               1.0   \n",
       "264125                   Fenway   51.5               1.0   \n",
       "264123                   Fenway   42.0               1.0   \n",
       "264120                   Fenway   28.5               1.0   \n",
       "\n",
       "                                          id  \\\n",
       "658728  f40aa84e-fe70-4ef7-9860-9315fb8cd63f   \n",
       "658724  15582e0b-da46-439e-abfa-a6af0deead98   \n",
       "658729  f70c929c-9476-42ec-8776-b9ff48e575cc   \n",
       "658723  03832272-f604-4c54-845a-b55387703959   \n",
       "658725  2596d91f-64fd-4235-b401-f48997b4b38b   \n",
       "658726  5bab99ba-9e97-423b-8129-41999254ae05   \n",
       "658727  8108cdde-7589-4569-8031-fb0e75e9f925   \n",
       "264125  dd50a0ed-3e96-4b9b-be65-570227197ffe   \n",
       "264123  bd344de3-f305-4b55-8c46-9cf538d5d7fd   \n",
       "264120  69896fa3-570d-4355-92e7-578dc1945af3   \n",
       "\n",
       "                                  product_id       name  \n",
       "658728  6d318bcc-22a3-4af6-bddd-b409bfce1546  Black SUV  \n",
       "658724  6c84fd89-3f11-4782-9b50-97c468b19529      Black  \n",
       "658729  6f72dfc5-27f1-42e8-84db-ccc7a75f6969     UberXL  \n",
       "658723  55c66225-fbe7-4fd5-9072-eab1ece5e23e      UberX  \n",
       "658725  9a0e7b09-b92b-4c41-9779-2ad22b4d779d        WAV  \n",
       "658726  997acbb5-e102-41e1-b155-9df7de0a73f2   UberPool  \n",
       "658727  8cf7e821-f0d3-49c6-8eba-e679c0ebcf6a       Taxi  \n",
       "264125  6d318bcc-22a3-4af6-bddd-b409bfce1546  Black SUV  \n",
       "264123  6c84fd89-3f11-4782-9b50-97c468b19529      Black  \n",
       "264120  6f72dfc5-27f1-42e8-84db-ccc7a75f6969     UberXL  "
      ]
     },
     "execution_count": 19,
     "metadata": {},
     "output_type": "execute_result"
    }
   ],
   "source": [
    "df.sort_values(by=[\"distance\",\"price\"],ascending=False)[:10]"
   ]
  },
  {
   "cell_type": "code",
   "execution_count": 20,
   "id": "1a067545",
   "metadata": {},
   "outputs": [
    {
     "data": {
      "text/plain": [
       "distance                0\n",
       "cab_type                0\n",
       "time_stamp              0\n",
       "destination             0\n",
       "source                  0\n",
       "price               55095\n",
       "surge_multiplier        0\n",
       "id                      0\n",
       "product_id              0\n",
       "name                    0\n",
       "dtype: int64"
      ]
     },
     "execution_count": 20,
     "metadata": {},
     "output_type": "execute_result"
    }
   ],
   "source": [
    "df.isnull().sum()"
   ]
  },
  {
   "cell_type": "code",
   "execution_count": 21,
   "id": "61075bed",
   "metadata": {},
   "outputs": [
    {
     "data": {
      "text/html": [
       "<div>\n",
       "<style scoped>\n",
       "    .dataframe tbody tr th:only-of-type {\n",
       "        vertical-align: middle;\n",
       "    }\n",
       "\n",
       "    .dataframe tbody tr th {\n",
       "        vertical-align: top;\n",
       "    }\n",
       "\n",
       "    .dataframe thead th {\n",
       "        text-align: right;\n",
       "    }\n",
       "</style>\n",
       "<table border=\"1\" class=\"dataframe\">\n",
       "  <thead>\n",
       "    <tr style=\"text-align: right;\">\n",
       "      <th></th>\n",
       "      <th>distance</th>\n",
       "      <th>cab_type</th>\n",
       "      <th>time_stamp</th>\n",
       "      <th>destination</th>\n",
       "      <th>source</th>\n",
       "      <th>price</th>\n",
       "      <th>surge_multiplier</th>\n",
       "      <th>id</th>\n",
       "      <th>product_id</th>\n",
       "      <th>name</th>\n",
       "    </tr>\n",
       "  </thead>\n",
       "  <tbody>\n",
       "    <tr>\n",
       "      <th>0</th>\n",
       "      <td>0.44</td>\n",
       "      <td>Lyft</td>\n",
       "      <td>1544952607890</td>\n",
       "      <td>North Station</td>\n",
       "      <td>Haymarket Square</td>\n",
       "      <td>5.0</td>\n",
       "      <td>1.0</td>\n",
       "      <td>424553bb-7174-41ea-aeb4-fe06d4f4b9d7</td>\n",
       "      <td>lyft_line</td>\n",
       "      <td>Shared</td>\n",
       "    </tr>\n",
       "    <tr>\n",
       "      <th>1</th>\n",
       "      <td>0.44</td>\n",
       "      <td>Lyft</td>\n",
       "      <td>1543284023677</td>\n",
       "      <td>North Station</td>\n",
       "      <td>Haymarket Square</td>\n",
       "      <td>11.0</td>\n",
       "      <td>1.0</td>\n",
       "      <td>4bd23055-6827-41c6-b23b-3c491f24e74d</td>\n",
       "      <td>lyft_premier</td>\n",
       "      <td>Lux</td>\n",
       "    </tr>\n",
       "    <tr>\n",
       "      <th>2</th>\n",
       "      <td>0.44</td>\n",
       "      <td>Lyft</td>\n",
       "      <td>1543366822198</td>\n",
       "      <td>North Station</td>\n",
       "      <td>Haymarket Square</td>\n",
       "      <td>7.0</td>\n",
       "      <td>1.0</td>\n",
       "      <td>981a3613-77af-4620-a42a-0c0866077d1e</td>\n",
       "      <td>lyft</td>\n",
       "      <td>Lyft</td>\n",
       "    </tr>\n",
       "    <tr>\n",
       "      <th>3</th>\n",
       "      <td>0.44</td>\n",
       "      <td>Lyft</td>\n",
       "      <td>1543553582749</td>\n",
       "      <td>North Station</td>\n",
       "      <td>Haymarket Square</td>\n",
       "      <td>26.0</td>\n",
       "      <td>1.0</td>\n",
       "      <td>c2d88af2-d278-4bfd-a8d0-29ca77cc5512</td>\n",
       "      <td>lyft_luxsuv</td>\n",
       "      <td>Lux Black XL</td>\n",
       "    </tr>\n",
       "    <tr>\n",
       "      <th>4</th>\n",
       "      <td>0.44</td>\n",
       "      <td>Lyft</td>\n",
       "      <td>1543463360223</td>\n",
       "      <td>North Station</td>\n",
       "      <td>Haymarket Square</td>\n",
       "      <td>9.0</td>\n",
       "      <td>1.0</td>\n",
       "      <td>e0126e1f-8ca9-4f2e-82b3-50505a09db9a</td>\n",
       "      <td>lyft_plus</td>\n",
       "      <td>Lyft XL</td>\n",
       "    </tr>\n",
       "    <tr>\n",
       "      <th>...</th>\n",
       "      <td>...</td>\n",
       "      <td>...</td>\n",
       "      <td>...</td>\n",
       "      <td>...</td>\n",
       "      <td>...</td>\n",
       "      <td>...</td>\n",
       "      <td>...</td>\n",
       "      <td>...</td>\n",
       "      <td>...</td>\n",
       "      <td>...</td>\n",
       "    </tr>\n",
       "    <tr>\n",
       "      <th>693065</th>\n",
       "      <td>1.00</td>\n",
       "      <td>Uber</td>\n",
       "      <td>1543708385534</td>\n",
       "      <td>North End</td>\n",
       "      <td>West End</td>\n",
       "      <td>9.5</td>\n",
       "      <td>1.0</td>\n",
       "      <td>353e6566-b272-479e-a9c6-98bd6cb23f25</td>\n",
       "      <td>9a0e7b09-b92b-4c41-9779-2ad22b4d779d</td>\n",
       "      <td>WAV</td>\n",
       "    </tr>\n",
       "    <tr>\n",
       "      <th>693066</th>\n",
       "      <td>1.00</td>\n",
       "      <td>Uber</td>\n",
       "      <td>1543708385534</td>\n",
       "      <td>North End</td>\n",
       "      <td>West End</td>\n",
       "      <td>13.0</td>\n",
       "      <td>1.0</td>\n",
       "      <td>616d3611-1820-450a-9845-a9ff304a4842</td>\n",
       "      <td>6f72dfc5-27f1-42e8-84db-ccc7a75f6969</td>\n",
       "      <td>UberXL</td>\n",
       "    </tr>\n",
       "    <tr>\n",
       "      <th>693067</th>\n",
       "      <td>1.00</td>\n",
       "      <td>Uber</td>\n",
       "      <td>1543708385534</td>\n",
       "      <td>North End</td>\n",
       "      <td>West End</td>\n",
       "      <td>9.5</td>\n",
       "      <td>1.0</td>\n",
       "      <td>633a3fc3-1f86-4b9e-9d48-2b7132112341</td>\n",
       "      <td>55c66225-fbe7-4fd5-9072-eab1ece5e23e</td>\n",
       "      <td>UberX</td>\n",
       "    </tr>\n",
       "    <tr>\n",
       "      <th>693069</th>\n",
       "      <td>1.00</td>\n",
       "      <td>Uber</td>\n",
       "      <td>1543708385534</td>\n",
       "      <td>North End</td>\n",
       "      <td>West End</td>\n",
       "      <td>27.0</td>\n",
       "      <td>1.0</td>\n",
       "      <td>727e5f07-a96b-4ad1-a2c7-9abc3ad55b4e</td>\n",
       "      <td>6d318bcc-22a3-4af6-bddd-b409bfce1546</td>\n",
       "      <td>Black SUV</td>\n",
       "    </tr>\n",
       "    <tr>\n",
       "      <th>693070</th>\n",
       "      <td>1.00</td>\n",
       "      <td>Uber</td>\n",
       "      <td>1543708385534</td>\n",
       "      <td>North End</td>\n",
       "      <td>West End</td>\n",
       "      <td>10.0</td>\n",
       "      <td>1.0</td>\n",
       "      <td>e7fdc087-fe86-40a5-a3c3-3b2a8badcbda</td>\n",
       "      <td>997acbb5-e102-41e1-b155-9df7de0a73f2</td>\n",
       "      <td>UberPool</td>\n",
       "    </tr>\n",
       "  </tbody>\n",
       "</table>\n",
       "<p>637976 rows × 10 columns</p>\n",
       "</div>"
      ],
      "text/plain": [
       "        distance cab_type     time_stamp    destination            source  \\\n",
       "0           0.44     Lyft  1544952607890  North Station  Haymarket Square   \n",
       "1           0.44     Lyft  1543284023677  North Station  Haymarket Square   \n",
       "2           0.44     Lyft  1543366822198  North Station  Haymarket Square   \n",
       "3           0.44     Lyft  1543553582749  North Station  Haymarket Square   \n",
       "4           0.44     Lyft  1543463360223  North Station  Haymarket Square   \n",
       "...          ...      ...            ...            ...               ...   \n",
       "693065      1.00     Uber  1543708385534      North End          West End   \n",
       "693066      1.00     Uber  1543708385534      North End          West End   \n",
       "693067      1.00     Uber  1543708385534      North End          West End   \n",
       "693069      1.00     Uber  1543708385534      North End          West End   \n",
       "693070      1.00     Uber  1543708385534      North End          West End   \n",
       "\n",
       "        price  surge_multiplier                                    id  \\\n",
       "0         5.0               1.0  424553bb-7174-41ea-aeb4-fe06d4f4b9d7   \n",
       "1        11.0               1.0  4bd23055-6827-41c6-b23b-3c491f24e74d   \n",
       "2         7.0               1.0  981a3613-77af-4620-a42a-0c0866077d1e   \n",
       "3        26.0               1.0  c2d88af2-d278-4bfd-a8d0-29ca77cc5512   \n",
       "4         9.0               1.0  e0126e1f-8ca9-4f2e-82b3-50505a09db9a   \n",
       "...       ...               ...                                   ...   \n",
       "693065    9.5               1.0  353e6566-b272-479e-a9c6-98bd6cb23f25   \n",
       "693066   13.0               1.0  616d3611-1820-450a-9845-a9ff304a4842   \n",
       "693067    9.5               1.0  633a3fc3-1f86-4b9e-9d48-2b7132112341   \n",
       "693069   27.0               1.0  727e5f07-a96b-4ad1-a2c7-9abc3ad55b4e   \n",
       "693070   10.0               1.0  e7fdc087-fe86-40a5-a3c3-3b2a8badcbda   \n",
       "\n",
       "                                  product_id          name  \n",
       "0                                  lyft_line        Shared  \n",
       "1                               lyft_premier           Lux  \n",
       "2                                       lyft          Lyft  \n",
       "3                                lyft_luxsuv  Lux Black XL  \n",
       "4                                  lyft_plus       Lyft XL  \n",
       "...                                      ...           ...  \n",
       "693065  9a0e7b09-b92b-4c41-9779-2ad22b4d779d           WAV  \n",
       "693066  6f72dfc5-27f1-42e8-84db-ccc7a75f6969        UberXL  \n",
       "693067  55c66225-fbe7-4fd5-9072-eab1ece5e23e         UberX  \n",
       "693069  6d318bcc-22a3-4af6-bddd-b409bfce1546     Black SUV  \n",
       "693070  997acbb5-e102-41e1-b155-9df7de0a73f2      UberPool  \n",
       "\n",
       "[637976 rows x 10 columns]"
      ]
     },
     "execution_count": 21,
     "metadata": {},
     "output_type": "execute_result"
    }
   ],
   "source": [
    "df_new=df.loc[~df[\"price\"].isnull()]\n",
    "df_new"
   ]
  },
  {
   "cell_type": "code",
   "execution_count": 22,
   "id": "75df436b",
   "metadata": {},
   "outputs": [
    {
     "data": {
      "text/plain": [
       "distance            0\n",
       "cab_type            0\n",
       "time_stamp          0\n",
       "destination         0\n",
       "source              0\n",
       "price               0\n",
       "surge_multiplier    0\n",
       "id                  0\n",
       "product_id          0\n",
       "name                0\n",
       "dtype: int64"
      ]
     },
     "execution_count": 22,
     "metadata": {},
     "output_type": "execute_result"
    }
   ],
   "source": [
    "df_new.isnull().sum()"
   ]
  },
  {
   "cell_type": "code",
   "execution_count": 23,
   "id": "36749184",
   "metadata": {},
   "outputs": [],
   "source": [
    "#return the number of rides which went from west end to north end and where price was greater than 10$.\n",
    "\n",
    "df6=df[(df.source==\"West End\") & (df.destination==\"North End\") & (df.price>=10)]"
   ]
  },
  {
   "cell_type": "code",
   "execution_count": 24,
   "id": "8becf25c",
   "metadata": {
    "scrolled": true
   },
   "outputs": [
    {
     "data": {
      "text/plain": [
       "distance            5030\n",
       "cab_type            5030\n",
       "time_stamp          5030\n",
       "destination         5030\n",
       "source              5030\n",
       "price               5030\n",
       "surge_multiplier    5030\n",
       "id                  5030\n",
       "product_id          5030\n",
       "name                5030\n",
       "dtype: int64"
      ]
     },
     "execution_count": 24,
     "metadata": {},
     "output_type": "execute_result"
    }
   ],
   "source": [
    "df6.count()"
   ]
  },
  {
   "cell_type": "markdown",
   "id": "b4fac827",
   "metadata": {},
   "source": [
    "# Observation\n",
    "\n",
    "1.There are 5030 trips which started from West End and goes to North End and there prices were more than 10$"
   ]
  },
  {
   "cell_type": "markdown",
   "id": "2be0a079",
   "metadata": {},
   "source": [
    "# EDA(EXPLORATORY DATA ANALYSIS)"
   ]
  },
  {
   "cell_type": "code",
   "execution_count": 25,
   "id": "d5af5512",
   "metadata": {},
   "outputs": [],
   "source": [
    "#univariate-> When you analyze one column, thats called univariate\n",
    "#bivariate--> when you analyze two columns together, thats called bivariate\n",
    "#multivariate--> when you analyze more than two columns together its called multivariate\n",
    "\n",
    "\n"
   ]
  },
  {
   "cell_type": "markdown",
   "id": "3c9560b4",
   "metadata": {},
   "source": [
    "# Univariate analysis\n",
    "\n",
    "1. HISTOGRAM- Tells you frequency of the feature/column in different intervals(numerical features frequency-Histogram)\n",
    "\n",
    "\n",
    "2. PDF(Probabilty density function)\n",
    "\n",
    "\n",
    "3. BAR PLOT- if you want to find the frequency or count of a column which is categorical that will be find by bar plot.\n",
    "\n",
    "\n",
    "4. PIE CHART-- Its a chart which gives you percentage distribution and all the percentages must add upto 100%\n",
    "\n",
    "\n",
    "4. BOX PLOT- Box plot gives you 5 number summary, Minimum, Maximum, 25th percentile(Q1), 50th percentile(Q2),75th percentile(Q3)\n",
    "\n",
    "\n",
    "\n",
    "\n",
    "5. VIOLIN Plot- Combination of pdf and box plot\n"
   ]
  },
  {
   "cell_type": "markdown",
   "id": "4f278faa",
   "metadata": {},
   "source": [
    "# Bivariate Analysis\n",
    "\n",
    "1. Scatter Plot gives you the relationship between 2 numerical features\n",
    "\n",
    "\n",
    "2. Pair Plot gives you all the combinations of scatter plots in data (nc2)"
   ]
  },
  {
   "cell_type": "markdown",
   "id": "54e86e88",
   "metadata": {},
   "source": [
    "# Lets do univariate analysis (Distance Feature)\n",
    "\n",
    "Lets take feature distance"
   ]
  },
  {
   "cell_type": "code",
   "execution_count": 26,
   "id": "f665d59d",
   "metadata": {},
   "outputs": [
    {
     "data": {
      "text/plain": [
       "0         0.44\n",
       "1         0.44\n",
       "2         0.44\n",
       "3         0.44\n",
       "4         0.44\n",
       "          ... \n",
       "693066    1.00\n",
       "693067    1.00\n",
       "693068    1.00\n",
       "693069    1.00\n",
       "693070    1.00\n",
       "Name: distance, Length: 693071, dtype: float64"
      ]
     },
     "execution_count": 26,
     "metadata": {},
     "output_type": "execute_result"
    }
   ],
   "source": [
    "df.distance"
   ]
  },
  {
   "cell_type": "code",
   "execution_count": 27,
   "id": "04c3e09d",
   "metadata": {
    "scrolled": true
   },
   "outputs": [
    {
     "data": {
      "text/plain": [
       "(array([ 67786., 194738., 129082., 187615.,  63532.,  35996.,   6954.,\n",
       "          4856.,    412.,   2100.]),\n",
       " array([0.02 , 0.804, 1.588, 2.372, 3.156, 3.94 , 4.724, 5.508, 6.292,\n",
       "        7.076, 7.86 ]),\n",
       " <BarContainer object of 10 artists>)"
      ]
     },
     "execution_count": 27,
     "metadata": {},
     "output_type": "execute_result"
    },
    {
     "data": {
      "image/png": "[encoded data removed]",
      "text/plain": [
       "<Figure size 432x288 with 1 Axes>"
      ]
     },
     "metadata": {
      "needs_background": "light"
     },
     "output_type": "display_data"
    }
   ],
   "source": [
    "plt.hist(df.distance)\n",
    "#histogram can only be built for the numerical features."
   ]
  },
  {
   "cell_type": "markdown",
   "id": "d1533811",
   "metadata": {},
   "source": [
    "# Observation\n",
    "\n",
    "1. The highest number of rides happened in the distance between 1 mile to 3 miles.\n",
    "\n",
    "2. There are very few trips between 6 to 8 miles"
   ]
  },
  {
   "cell_type": "code",
   "execution_count": 28,
   "id": "2b39eadb",
   "metadata": {},
   "outputs": [
    {
     "data": {
      "image/png": "[encoded data removed]",
      "text/plain": [
       "<Figure size 419.875x360 with 1 Axes>"
      ]
     },
     "metadata": {
      "needs_background": "light"
     },
     "output_type": "display_data"
    }
   ],
   "source": [
    "#pdf(probabily density function)--> smoothen variation of histogram\n",
    "import warnings\n",
    "warnings.filterwarnings(\"ignore\")\n",
    "sns.FacetGrid(df, hue=\"cab_type\",size=5).map(sns.distplot, \"distance\").add_legend()\n",
    "plt.show()\n",
    "\n",
    "\n"
   ]
  },
  {
   "cell_type": "markdown",
   "id": "0cd96113",
   "metadata": {},
   "source": [
    "# Observation\n",
    "\n",
    "1. For small distances people prefer using both cabs uber and lyft .\n",
    "\n",
    "2. As distance increases people prefer using Uber"
   ]
  },
  {
   "cell_type": "markdown",
   "id": "a5fc39f4",
   "metadata": {},
   "source": [
    "# Feature Price "
   ]
  },
  {
   "cell_type": "code",
   "execution_count": 29,
   "id": "ec077717",
   "metadata": {},
   "outputs": [
    {
     "data": {
      "text/plain": [
       "(array([2.69805e+05, 1.84912e+05, 1.30154e+05, 4.38570e+04, 7.21500e+03,\n",
       "        1.44000e+03, 4.08000e+02, 9.00000e+01, 7.30000e+01, 2.20000e+01]),\n",
       " array([ 2.5, 12. , 21.5, 31. , 40.5, 50. , 59.5, 69. , 78.5, 88. , 97.5]),\n",
       " <BarContainer object of 10 artists>)"
      ]
     },
     "execution_count": 29,
     "metadata": {},
     "output_type": "execute_result"
    },
    {
     "data": {
      "image/png": "[encoded data removed]",
      "text/plain": [
       "<Figure size 432x288 with 1 Axes>"
      ]
     },
     "metadata": {
      "needs_background": "light"
     },
     "output_type": "display_data"
    }
   ],
   "source": [
    "\n",
    "plt.hist(df.price)\n",
    "\n"
   ]
  },
  {
   "cell_type": "markdown",
   "id": "9a9eb40f",
   "metadata": {},
   "source": [
    "# Observation\n",
    "\n",
    "1. Mostly people booked a ride between 0 to 10 dollars\n",
    "\n",
    "2. As price Increased, No of trips starts decreasing.\n",
    "\n",
    "3. There is no trip more than 70 dollars,(max trip price was 70 dollars)"
   ]
  },
  {
   "cell_type": "code",
   "execution_count": 30,
   "id": "dc2c12a1",
   "metadata": {},
   "outputs": [],
   "source": [
    "# pdfs"
   ]
  },
  {
   "cell_type": "code",
   "execution_count": 31,
   "id": "53d050ed",
   "metadata": {},
   "outputs": [
    {
     "data": {
      "image/png": "[encoded data removed]",
      "text/plain": [
       "<Figure size 419.875x360 with 1 Axes>"
      ]
     },
     "metadata": {
      "needs_background": "light"
     },
     "output_type": "display_data"
    }
   ],
   "source": [
    "import warnings\n",
    "warnings.filterwarnings(\"ignore\")\n",
    "sns.FacetGrid(df, hue=\"cab_type\",size=5).map(sns.distplot, \"price\").add_legend()\n",
    "plt.show()\n",
    "\n",
    "\n"
   ]
  },
  {
   "cell_type": "markdown",
   "id": "5728fbc8",
   "metadata": {},
   "source": [
    "# Observation\n",
    "\n",
    "For the low prices between 5 to 15 dollars people prefer uber over lyft"
   ]
  },
  {
   "cell_type": "markdown",
   "id": "efac9860",
   "metadata": {},
   "source": [
    "# Questions to solve\n",
    "\n",
    "1. What is the percentage distribution of lfyt and uber individually in the market?\n",
    "\n",
    "\n",
    "2. What is the most common source?\n",
    "\n",
    "\n",
    "3. What is the most common destination?\n",
    "\n",
    "\n",
    "4. What percentage of all the trips got surge multiplier?\n",
    "\n",
    "\n",
    "5. Return the time of the day and their surge prices at that moment?\n",
    "\n",
    "\n",
    "6. What is most frequenly booked uber and most frequently lyft?\n",
    "\n",
    "\n",
    "7. What is the mean and median distance travelled across per cab type?\n",
    "\n",
    "\n",
    "8. How distance is changing surge?"
   ]
  },
  {
   "cell_type": "code",
   "execution_count": 32,
   "id": "3a551a85",
   "metadata": {},
   "outputs": [
    {
     "data": {
      "text/plain": [
       "Uber    385663\n",
       "Lyft    307408\n",
       "Name: cab_type, dtype: int64"
      ]
     },
     "execution_count": 32,
     "metadata": {},
     "output_type": "execute_result"
    }
   ],
   "source": [
    "#1. What is the percentage distribution of lfyt and uber individually in the market?\n",
    "\n",
    "percentage_distibution=df['cab_type'].value_counts()\n",
    "#value_counts is counting the category types\n",
    "percentage_distibution"
   ]
  },
  {
   "cell_type": "code",
   "execution_count": 33,
   "id": "04336f8f",
   "metadata": {},
   "outputs": [
    {
     "name": "stdout",
     "output_type": "stream",
     "text": [
      "Index(['Uber', 'Lyft'], dtype='object')\n",
      "[385663 307408]\n"
     ]
    },
    {
     "data": {
      "text/plain": [
       "([<matplotlib.patches.Wedge at 0x7fe65165feb0>,\n",
       "  <matplotlib.patches.Wedge at 0x7fe65166c850>],\n",
       " [Text(-0.19407413012528127, 1.0827443059264341, 'Uber'),\n",
       "  Text(0.19407413012528135, -1.0827443059264341, 'Lyft')],\n",
       " [Text(-0.10585861643197159, 0.5905878032326004, '55.65%'),\n",
       "  Text(0.10585861643197163, -0.5905878032326004, '44.35%')])"
      ]
     },
     "execution_count": 33,
     "metadata": {},
     "output_type": "execute_result"
    },
    {
     "data": {
      "image/png": "[encoded data removed]",
      "text/plain": [
       "<Figure size 432x288 with 1 Axes>"
      ]
     },
     "metadata": {},
     "output_type": "display_data"
    }
   ],
   "source": [
    "labels = percentage_distibution.index\n",
    "sizes =percentage_distibution.values \n",
    "print(labels)\n",
    "print(sizes)\n",
    "\n",
    "plt.pie(sizes, labels=labels, autopct='%.2f%%',\n",
    "        shadow=True)\n"
   ]
  },
  {
   "cell_type": "code",
   "execution_count": 34,
   "id": "4ee105d0",
   "metadata": {
    "scrolled": true
   },
   "outputs": [],
   "source": [
    "df_new=df[[\"source\",\"destination\"]]\n",
    "#df_new[\"s2d\"]=df[\"source\"]+\"-\"df[\"destination\"]\n",
    "#df_new\n",
    "\n"
   ]
  },
  {
   "cell_type": "code",
   "execution_count": 35,
   "id": "e4275502",
   "metadata": {},
   "outputs": [
    {
     "data": {
      "text/plain": [
       "72"
      ]
     },
     "execution_count": 35,
     "metadata": {},
     "output_type": "execute_result"
    }
   ],
   "source": [
    "\n",
    "df_new=df[[\"source\",\"destination\"]]\n",
    "df_new\n",
    "\n",
    "df_new[\"s2d2\"]=df[\"source\"]+ \"-\" +df[\"destination\"]\n",
    "df_new[\"s2d2\"]\n",
    "df_new\n",
    "\n",
    "source_to_destination=df_new['s2d2'].value_counts()\n",
    "\n",
    "source_to_destination\n",
    "count_s2d=source_to_destination.count()\n",
    "count_s2d"
   ]
  },
  {
   "cell_type": "code",
   "execution_count": 36,
   "id": "cef81da2",
   "metadata": {},
   "outputs": [
    {
     "data": {
      "text/plain": [
       "Financial District-South Station       10352\n",
       "South Station-Financial District       10352\n",
       "Back Bay-North End                     10225\n",
       "North End-Back Bay                     10225\n",
       "Fenway-West End                        10165\n",
       "West End-Fenway                        10165\n",
       "Haymarket Square-Financial District    10134\n",
       "Financial District-Haymarket Square    10133\n",
       "Beacon Hill-North End                  10039\n",
       "North End-Beacon Hill                  10039\n",
       "Name: s2d2, dtype: int64"
      ]
     },
     "execution_count": 36,
     "metadata": {},
     "output_type": "execute_result"
    }
   ],
   "source": [
    "top_10_s2d=source_to_destination[:10]\n",
    "top_10_s2d\n"
   ]
  },
  {
   "cell_type": "code",
   "execution_count": 37,
   "id": "c5b592ef",
   "metadata": {},
   "outputs": [
    {
     "data": {
      "text/plain": [
       "<AxesSubplot:>"
      ]
     },
     "execution_count": 37,
     "metadata": {},
     "output_type": "execute_result"
    },
    {
     "data": {
      "image/png": "[encoded data removed]",
      "text/plain": [
       "<Figure size 432x288 with 1 Axes>"
      ]
     },
     "metadata": {
      "needs_background": "light"
     },
     "output_type": "display_data"
    }
   ],
   "source": [
    "sns.barplot(top_10_s2d.values,top_10_s2d.index)\n",
    "\n"
   ]
  },
  {
   "cell_type": "code",
   "execution_count": 38,
   "id": "6405b396",
   "metadata": {
    "scrolled": true
   },
   "outputs": [
    {
     "data": {
      "text/html": [
       "<div>\n",
       "<style scoped>\n",
       "    .dataframe tbody tr th:only-of-type {\n",
       "        vertical-align: middle;\n",
       "    }\n",
       "\n",
       "    .dataframe tbody tr th {\n",
       "        vertical-align: top;\n",
       "    }\n",
       "\n",
       "    .dataframe thead th {\n",
       "        text-align: right;\n",
       "    }\n",
       "</style>\n",
       "<table border=\"1\" class=\"dataframe\">\n",
       "  <thead>\n",
       "    <tr style=\"text-align: right;\">\n",
       "      <th></th>\n",
       "      <th>Name</th>\n",
       "      <th>Age</th>\n",
       "      <th>Reviews</th>\n",
       "    </tr>\n",
       "  </thead>\n",
       "  <tbody>\n",
       "    <tr>\n",
       "      <th>0</th>\n",
       "      <td>Nishesh</td>\n",
       "      <td>25</td>\n",
       "      <td>i like the product</td>\n",
       "    </tr>\n",
       "    <tr>\n",
       "      <th>1</th>\n",
       "      <td>Dipinder</td>\n",
       "      <td>28</td>\n",
       "      <td>i did not like it</td>\n",
       "    </tr>\n",
       "    <tr>\n",
       "      <th>2</th>\n",
       "      <td>Rakesh</td>\n",
       "      <td>20</td>\n",
       "      <td>i hated it</td>\n",
       "    </tr>\n",
       "    <tr>\n",
       "      <th>3</th>\n",
       "      <td>Nishita</td>\n",
       "      <td>30</td>\n",
       "      <td>i enjoyed it</td>\n",
       "    </tr>\n",
       "  </tbody>\n",
       "</table>\n",
       "</div>"
      ],
      "text/plain": [
       "       Name  Age             Reviews\n",
       "0   Nishesh   25  i like the product\n",
       "1  Dipinder   28   i did not like it\n",
       "2    Rakesh   20          i hated it\n",
       "3   Nishita   30        i enjoyed it"
      ]
     },
     "execution_count": 38,
     "metadata": {},
     "output_type": "execute_result"
    }
   ],
   "source": [
    "#creating data bases\n",
    "data_amazon={\"Name\":[\"Nishesh\",\"Dipinder\",\"Rakesh\",\"Nishita\"],\"Age\":[25,28,20,30],\"Reviews\":\n",
    "             [\"i like the product\",\"i did not like it\",\"i hated it\",\"i enjoyed it\"]}\n",
    "\n",
    "df_amazon=pd.DataFrame(data=data_amazon)\n",
    "df_amazon\n"
   ]
  },
  {
   "cell_type": "code",
   "execution_count": 39,
   "id": "e316bcae",
   "metadata": {},
   "outputs": [
    {
     "data": {
      "text/html": [
       "<div>\n",
       "<style scoped>\n",
       "    .dataframe tbody tr th:only-of-type {\n",
       "        vertical-align: middle;\n",
       "    }\n",
       "\n",
       "    .dataframe tbody tr th {\n",
       "        vertical-align: top;\n",
       "    }\n",
       "\n",
       "    .dataframe thead th {\n",
       "        text-align: right;\n",
       "    }\n",
       "</style>\n",
       "<table border=\"1\" class=\"dataframe\">\n",
       "  <thead>\n",
       "    <tr style=\"text-align: right;\">\n",
       "      <th></th>\n",
       "      <th>Age</th>\n",
       "      <th>Reviews</th>\n",
       "    </tr>\n",
       "  </thead>\n",
       "  <tbody>\n",
       "    <tr>\n",
       "      <th>1</th>\n",
       "      <td>28</td>\n",
       "      <td>i did not like it</td>\n",
       "    </tr>\n",
       "    <tr>\n",
       "      <th>2</th>\n",
       "      <td>20</td>\n",
       "      <td>i hated it</td>\n",
       "    </tr>\n",
       "  </tbody>\n",
       "</table>\n",
       "</div>"
      ],
      "text/plain": [
       "   Age            Reviews\n",
       "1   28  i did not like it\n",
       "2   20         i hated it"
      ]
     },
     "execution_count": 39,
     "metadata": {},
     "output_type": "execute_result"
    }
   ],
   "source": [
    "df_amazon.iloc[1:3,1:3]"
   ]
  },
  {
   "cell_type": "markdown",
   "id": "90380ce2",
   "metadata": {},
   "source": [
    "# Ques-2 What is the most common source?\n",
    "\n",
    "\n"
   ]
  },
  {
   "cell_type": "code",
   "execution_count": 40,
   "id": "645c9476",
   "metadata": {},
   "outputs": [],
   "source": [
    "most_common=df['source'].value_counts()"
   ]
  },
  {
   "cell_type": "code",
   "execution_count": 41,
   "id": "f0ba49f8",
   "metadata": {},
   "outputs": [
    {
     "data": {
      "text/plain": [
       "Financial District    58857\n",
       "Name: source, dtype: int64"
      ]
     },
     "execution_count": 41,
     "metadata": {},
     "output_type": "execute_result"
    }
   ],
   "source": [
    "most_common[:1]\n",
    "#Financial District is the most common source\n",
    "\n"
   ]
  },
  {
   "cell_type": "markdown",
   "id": "285cb3e1",
   "metadata": {},
   "source": [
    "# Ques 3 What is the most common destination?\n",
    "\n"
   ]
  },
  {
   "cell_type": "code",
   "execution_count": 42,
   "id": "3eea7c59",
   "metadata": {
    "scrolled": true
   },
   "outputs": [
    {
     "data": {
      "text/plain": [
       "Financial District    58857\n",
       "Name: source, dtype: int64"
      ]
     },
     "execution_count": 42,
     "metadata": {},
     "output_type": "execute_result"
    }
   ],
   "source": [
    "most_common_d=df[\"destination\"].value_counts()\n",
    "most_common[:1]\n",
    "#financial district is the most common destination in our data\n",
    "\n",
    "\n"
   ]
  },
  {
   "cell_type": "markdown",
   "id": "19ff2b8b",
   "metadata": {},
   "source": [
    "# Ques 4 What percentage of all the trips got surge multiplier?"
   ]
  },
  {
   "cell_type": "code",
   "execution_count": 43,
   "id": "804b88b3",
   "metadata": {},
   "outputs": [
    {
     "data": {
      "text/plain": [
       "distance            20975\n",
       "cab_type            20975\n",
       "time_stamp          20975\n",
       "destination         20975\n",
       "source              20975\n",
       "price               20975\n",
       "surge_multiplier    20975\n",
       "id                  20975\n",
       "product_id          20975\n",
       "name                20975\n",
       "dtype: int64"
      ]
     },
     "execution_count": 43,
     "metadata": {},
     "output_type": "execute_result"
    }
   ],
   "source": [
    "more_than_1_surge=df[df[\"surge_multiplier\"]>1.0].count()\n",
    "\n",
    "more_than_1_surge\n"
   ]
  },
  {
   "cell_type": "code",
   "execution_count": 44,
   "id": "bfa18c11",
   "metadata": {},
   "outputs": [
    {
     "name": "stdout",
     "output_type": "stream",
     "text": [
      "20975\n"
     ]
    }
   ],
   "source": [
    "count_morethan1surge=more_than_1_surge.values[0]\n",
    "print(count_morethan1surge)\n",
    "\n",
    "\n",
    "\n"
   ]
  },
  {
   "cell_type": "code",
   "execution_count": 45,
   "id": "80cabafd",
   "metadata": {
    "scrolled": false
   },
   "outputs": [
    {
     "name": "stdout",
     "output_type": "stream",
     "text": [
      "693071\n"
     ]
    },
    {
     "data": {
      "text/plain": [
       "3.026385464115509"
      ]
     },
     "execution_count": 45,
     "metadata": {},
     "output_type": "execute_result"
    }
   ],
   "source": [
    "total_countoftrips=df.count().values[0]\n",
    "print(total_countoftrips)\n",
    "percentage_morethan1=(count_morethan1surge/total_countoftrips)*100\n",
    "percentage_morethan1\n",
    "\n",
    "\n"
   ]
  },
  {
   "cell_type": "code",
   "execution_count": 46,
   "id": "db10afee",
   "metadata": {
    "scrolled": true
   },
   "outputs": [
    {
     "name": "stdout",
     "output_type": "stream",
     "text": [
      "1.25    11085\n",
      "1.50     5065\n",
      "1.75     2420\n",
      "2.00     2239\n",
      "2.50      154\n",
      "3.00       12\n",
      "Name: surge_multiplier, dtype: int64\n"
     ]
    }
   ],
   "source": [
    "#surge_multiplier, #lets plot a pie chart\n",
    "\n",
    "surge=df['surge_multiplier'].value_counts()\n",
    "surge\n",
    "surge=surge.iloc[1:]\n",
    "print(surge)\n",
    "explode = (0.2, 0.2, 0.2, 0.2,0.2,0.2) \n",
    "\n",
    "\n"
   ]
  },
  {
   "cell_type": "code",
   "execution_count": 47,
   "id": "d56c92d0",
   "metadata": {},
   "outputs": [
    {
     "data": {
      "text/plain": [
       "([<matplotlib.patches.Wedge at 0x7fe630f5e2b0>,\n",
       "  <matplotlib.patches.Wedge at 0x7fe630f5ebe0>,\n",
       "  <matplotlib.patches.Wedge at 0x7fe630f6d4f0>,\n",
       "  <matplotlib.patches.Wedge at 0x7fe630f6ddc0>,\n",
       "  <matplotlib.patches.Wedge at 0x7fe630f7b670>,\n",
       "  <matplotlib.patches.Wedge at 0x7fe630f7be80>],\n",
       " [Text(-0.11618487246709447, 1.2947976967116543, '1.25'),\n",
       "  Text(-0.769231185437221, -1.0479901637662674, '1.5'),\n",
       "  Text(0.6094056184218111, -1.1483138909879695, '1.75'),\n",
       "  Text(1.2047993836155602, -0.48832207121895116, '2.0'),\n",
       "  Text(1.2995380241697516, -0.03465434658131924, '2.5'),\n",
       "  Text(1.2999979005325613, -0.002336367037392476, '3.0')],\n",
       " [Text(-0.07149838305667353, 0.7967985825917872, '52.85%'),\n",
       "  Text(-0.473373037192136, -0.6449170238561645, '24.15%'),\n",
       "  Text(0.3750188421057299, -0.7066547021464427, '11.54%'),\n",
       "  Text(0.7414150053018832, -0.300505889980893, '10.67%'),\n",
       "  Text(0.7997157071813856, -0.021325751742350296, '0.73%'),\n",
       "  Text(0.7999987080200376, -0.0014377643307030622, '0.06%')])"
      ]
     },
     "execution_count": 47,
     "metadata": {},
     "output_type": "execute_result"
    },
    {
     "data": {
      "image/png": "[encoded data removed]",
      "text/plain": [
       "<Figure size 432x288 with 1 Axes>"
      ]
     },
     "metadata": {},
     "output_type": "display_data"
    }
   ],
   "source": [
    "plt.pie(surge.values,explode=explode,labels=surge.index,autopct=\"%1.2f%%\",shadow=True)\n"
   ]
  },
  {
   "cell_type": "markdown",
   "id": "219ab39b",
   "metadata": {},
   "source": [
    "# Only almost 3 % of the rides have surge multiplier"
   ]
  },
  {
   "cell_type": "markdown",
   "id": "5d793496",
   "metadata": {},
   "source": [
    "# Ques-5 Return the time of the day and their surge prices when surge prices at their maximum\n",
    "\n"
   ]
  },
  {
   "cell_type": "code",
   "execution_count": 48,
   "id": "70ef1a55",
   "metadata": {},
   "outputs": [],
   "source": [
    "df[\"date_time\"]=pd.to_datetime(df[\"time_stamp\"]/1000,unit=\"s\")\n",
    "\n"
   ]
  },
  {
   "cell_type": "code",
   "execution_count": 49,
   "id": "17cf62a4",
   "metadata": {},
   "outputs": [
    {
     "data": {
      "text/plain": [
       "0        2018-12-16 09:30:07.890000128\n",
       "1        2018-11-27 02:00:23.676999936\n",
       "2        2018-11-28 01:00:22.197999872\n",
       "3        2018-11-30 04:53:02.749000192\n",
       "4        2018-11-29 03:49:20.223000064\n",
       "                      ...             \n",
       "693066   2018-12-01 23:53:05.533999872\n",
       "693067   2018-12-01 23:53:05.533999872\n",
       "693068   2018-12-01 23:53:05.533999872\n",
       "693069   2018-12-01 23:53:05.533999872\n",
       "693070   2018-12-01 23:53:05.533999872\n",
       "Name: date_time, Length: 693071, dtype: datetime64[ns]"
      ]
     },
     "execution_count": 49,
     "metadata": {},
     "output_type": "execute_result"
    }
   ],
   "source": [
    "df['date_time'] "
   ]
  },
  {
   "cell_type": "code",
   "execution_count": 50,
   "id": "6d5f49cd",
   "metadata": {},
   "outputs": [],
   "source": [
    "df['date'] = pd.to_datetime(df['date_time']).dt.date\n",
    "df['time'] = pd.to_datetime(df['date_time']).dt.time\n",
    "\n"
   ]
  },
  {
   "cell_type": "code",
   "execution_count": 51,
   "id": "cfe56f30",
   "metadata": {
    "scrolled": false
   },
   "outputs": [
    {
     "data": {
      "text/html": [
       "<div>\n",
       "<style scoped>\n",
       "    .dataframe tbody tr th:only-of-type {\n",
       "        vertical-align: middle;\n",
       "    }\n",
       "\n",
       "    .dataframe tbody tr th {\n",
       "        vertical-align: top;\n",
       "    }\n",
       "\n",
       "    .dataframe thead th {\n",
       "        text-align: right;\n",
       "    }\n",
       "</style>\n",
       "<table border=\"1\" class=\"dataframe\">\n",
       "  <thead>\n",
       "    <tr style=\"text-align: right;\">\n",
       "      <th></th>\n",
       "      <th>time</th>\n",
       "    </tr>\n",
       "    <tr>\n",
       "      <th>surge_multiplier</th>\n",
       "      <th></th>\n",
       "    </tr>\n",
       "  </thead>\n",
       "  <tbody>\n",
       "    <tr>\n",
       "      <th>3.00</th>\n",
       "      <td>12</td>\n",
       "    </tr>\n",
       "    <tr>\n",
       "      <th>2.50</th>\n",
       "      <td>154</td>\n",
       "    </tr>\n",
       "    <tr>\n",
       "      <th>2.00</th>\n",
       "      <td>2239</td>\n",
       "    </tr>\n",
       "    <tr>\n",
       "      <th>1.75</th>\n",
       "      <td>2420</td>\n",
       "    </tr>\n",
       "    <tr>\n",
       "      <th>1.50</th>\n",
       "      <td>5065</td>\n",
       "    </tr>\n",
       "    <tr>\n",
       "      <th>1.25</th>\n",
       "      <td>11085</td>\n",
       "    </tr>\n",
       "    <tr>\n",
       "      <th>1.00</th>\n",
       "      <td>672096</td>\n",
       "    </tr>\n",
       "  </tbody>\n",
       "</table>\n",
       "</div>"
      ],
      "text/plain": [
       "                    time\n",
       "surge_multiplier        \n",
       "3.00                  12\n",
       "2.50                 154\n",
       "2.00                2239\n",
       "1.75                2420\n",
       "1.50                5065\n",
       "1.25               11085\n",
       "1.00              672096"
      ]
     },
     "execution_count": 51,
     "metadata": {},
     "output_type": "execute_result"
    }
   ],
   "source": [
    "df_surge_time=df[[\"surge_multiplier\",\"time\"]]\n",
    "\n",
    "df_surge_time\n",
    "\n",
    "df_surge_time.groupby(\"surge_multiplier\").count().sort_values(by=[\"surge_multiplier\"],ascending=False)"
   ]
  },
  {
   "cell_type": "markdown",
   "id": "6d6a33f5",
   "metadata": {},
   "source": [
    "# Ques-6 Which is the day when most uber got booked and most lyft got booked individually?\n"
   ]
  },
  {
   "cell_type": "code",
   "execution_count": 52,
   "id": "0571f9af",
   "metadata": {
    "scrolled": true
   },
   "outputs": [
    {
     "data": {
      "text/html": [
       "<div>\n",
       "<style scoped>\n",
       "    .dataframe tbody tr th:only-of-type {\n",
       "        vertical-align: middle;\n",
       "    }\n",
       "\n",
       "    .dataframe tbody tr th {\n",
       "        vertical-align: top;\n",
       "    }\n",
       "\n",
       "    .dataframe thead th {\n",
       "        text-align: right;\n",
       "    }\n",
       "</style>\n",
       "<table border=\"1\" class=\"dataframe\">\n",
       "  <thead>\n",
       "    <tr style=\"text-align: right;\">\n",
       "      <th></th>\n",
       "      <th>cab_type</th>\n",
       "      <th>date</th>\n",
       "    </tr>\n",
       "  </thead>\n",
       "  <tbody>\n",
       "    <tr>\n",
       "      <th>0</th>\n",
       "      <td>Lyft</td>\n",
       "      <td>2018-12-16</td>\n",
       "    </tr>\n",
       "    <tr>\n",
       "      <th>1</th>\n",
       "      <td>Lyft</td>\n",
       "      <td>2018-11-27</td>\n",
       "    </tr>\n",
       "    <tr>\n",
       "      <th>2</th>\n",
       "      <td>Lyft</td>\n",
       "      <td>2018-11-28</td>\n",
       "    </tr>\n",
       "    <tr>\n",
       "      <th>3</th>\n",
       "      <td>Lyft</td>\n",
       "      <td>2018-11-30</td>\n",
       "    </tr>\n",
       "    <tr>\n",
       "      <th>4</th>\n",
       "      <td>Lyft</td>\n",
       "      <td>2018-11-29</td>\n",
       "    </tr>\n",
       "    <tr>\n",
       "      <th>...</th>\n",
       "      <td>...</td>\n",
       "      <td>...</td>\n",
       "    </tr>\n",
       "    <tr>\n",
       "      <th>693066</th>\n",
       "      <td>Uber</td>\n",
       "      <td>2018-12-01</td>\n",
       "    </tr>\n",
       "    <tr>\n",
       "      <th>693067</th>\n",
       "      <td>Uber</td>\n",
       "      <td>2018-12-01</td>\n",
       "    </tr>\n",
       "    <tr>\n",
       "      <th>693068</th>\n",
       "      <td>Uber</td>\n",
       "      <td>2018-12-01</td>\n",
       "    </tr>\n",
       "    <tr>\n",
       "      <th>693069</th>\n",
       "      <td>Uber</td>\n",
       "      <td>2018-12-01</td>\n",
       "    </tr>\n",
       "    <tr>\n",
       "      <th>693070</th>\n",
       "      <td>Uber</td>\n",
       "      <td>2018-12-01</td>\n",
       "    </tr>\n",
       "  </tbody>\n",
       "</table>\n",
       "<p>693071 rows × 2 columns</p>\n",
       "</div>"
      ],
      "text/plain": [
       "       cab_type        date\n",
       "0          Lyft  2018-12-16\n",
       "1          Lyft  2018-11-27\n",
       "2          Lyft  2018-11-28\n",
       "3          Lyft  2018-11-30\n",
       "4          Lyft  2018-11-29\n",
       "...         ...         ...\n",
       "693066     Uber  2018-12-01\n",
       "693067     Uber  2018-12-01\n",
       "693068     Uber  2018-12-01\n",
       "693069     Uber  2018-12-01\n",
       "693070     Uber  2018-12-01\n",
       "\n",
       "[693071 rows x 2 columns]"
      ]
     },
     "execution_count": 52,
     "metadata": {},
     "output_type": "execute_result"
    }
   ],
   "source": [
    "df_dates=df[[\"cab_type\",\"date\"]]\n",
    "df_dates\n",
    "\n",
    "\n",
    "\n"
   ]
  },
  {
   "cell_type": "code",
   "execution_count": 53,
   "id": "2050f03a",
   "metadata": {
    "scrolled": true
   },
   "outputs": [
    {
     "data": {
      "text/plain": [
       "2018-11-27    76121\n",
       "2018-11-28    73691\n",
       "2018-11-29    59974\n",
       "2018-12-01    45240\n",
       "2018-11-30    45084\n",
       "2018-12-02    44928\n",
       "2018-12-15    44928\n",
       "2018-12-16    44928\n",
       "2018-12-03    44928\n",
       "2018-12-17    44928\n",
       "2018-12-14    44928\n",
       "2018-12-13    38531\n",
       "2018-12-18    36192\n",
       "2018-11-26    31587\n",
       "2018-12-04    12636\n",
       "2018-12-10     2773\n",
       "2018-12-09     1674\n",
       "Name: date, dtype: int64"
      ]
     },
     "execution_count": 53,
     "metadata": {},
     "output_type": "execute_result"
    }
   ],
   "source": [
    "df_dates['date'].value_counts()"
   ]
  },
  {
   "cell_type": "markdown",
   "id": "acdb162a",
   "metadata": {},
   "source": [
    "# On 27 November 2018 most cabs booked and the number is 76121. But we want to know for individual companies"
   ]
  },
  {
   "cell_type": "code",
   "execution_count": 54,
   "id": "26434ba9",
   "metadata": {},
   "outputs": [],
   "source": [
    "df_uber=df_dates[df_dates[\"cab_type\"]==\"Uber\"]\n",
    "df_lyft=df_dates[df_dates[\"cab_type\"]==\"Lyft\"]"
   ]
  },
  {
   "cell_type": "code",
   "execution_count": 55,
   "id": "d7c88b4c",
   "metadata": {
    "scrolled": true
   },
   "outputs": [
    {
     "data": {
      "text/plain": [
       "2018-11-27    42366\n",
       "2018-11-28    40900\n",
       "2018-11-29    33508\n",
       "2018-12-17    25243\n",
       "2018-11-30    25171\n",
       "2018-12-02    25083\n",
       "2018-12-15    25022\n",
       "2018-12-01    24951\n",
       "2018-12-03    24907\n",
       "2018-12-16    24889\n",
       "2018-12-14    24777\n",
       "2018-12-13    21526\n",
       "2018-12-18    20234\n",
       "2018-11-26    17587\n",
       "2018-12-04     6932\n",
       "2018-12-10     1561\n",
       "2018-12-09     1006\n",
       "Name: date, dtype: int64"
      ]
     },
     "execution_count": 55,
     "metadata": {},
     "output_type": "execute_result"
    }
   ],
   "source": [
    "df_uber['date'].value_counts()\n",
    "#on 27th november most uber got booked which is 42366 times"
   ]
  },
  {
   "cell_type": "code",
   "execution_count": 56,
   "id": "9560aa9e",
   "metadata": {
    "scrolled": true
   },
   "outputs": [
    {
     "data": {
      "text/plain": [
       "2018-11-27    33755\n",
       "2018-11-28    32791\n",
       "2018-11-29    26466\n",
       "2018-12-01    20289\n",
       "2018-12-14    20151\n",
       "2018-12-16    20039\n",
       "2018-12-03    20021\n",
       "2018-11-30    19913\n",
       "2018-12-15    19906\n",
       "2018-12-02    19845\n",
       "2018-12-17    19685\n",
       "2018-12-13    17005\n",
       "2018-12-18    15958\n",
       "2018-11-26    14000\n",
       "2018-12-04     5704\n",
       "2018-12-10     1212\n",
       "2018-12-09      668\n",
       "Name: date, dtype: int64"
      ]
     },
     "execution_count": 56,
     "metadata": {},
     "output_type": "execute_result"
    }
   ],
   "source": [
    "df_lyft[\"date\"].value_counts()"
   ]
  },
  {
   "cell_type": "markdown",
   "id": "ebfd802d",
   "metadata": {},
   "source": [
    "# on 27th november most lyft got booked which is 33755 times"
   ]
  },
  {
   "cell_type": "markdown",
   "id": "63252c16",
   "metadata": {},
   "source": [
    "# 7. What is the mean and median distance travelled across per cab type?\n",
    "\n",
    "\n",
    "\n"
   ]
  },
  {
   "cell_type": "code",
   "execution_count": 57,
   "id": "9e3f015d",
   "metadata": {},
   "outputs": [
    {
     "name": "stdout",
     "output_type": "stream",
     "text": [
      "cab_type\n",
      "Lyft    2.186976\n",
      "Uber    2.191386\n",
      "Name: distance, dtype: float64\n"
     ]
    }
   ],
   "source": [
    "import numpy as np\n",
    "\n",
    "#this is the mean distance travelled across per cab type\n",
    "group_by_cab_mean=df.groupby(by=\"cab_type\")[\"distance\"].mean()\n",
    "print(group_by_cab_mean)\n"
   ]
  },
  {
   "cell_type": "code",
   "execution_count": 58,
   "id": "da34891e",
   "metadata": {},
   "outputs": [
    {
     "data": {
      "text/plain": [
       "cab_type\n",
       "Lyft    2.14\n",
       "Uber    2.17\n",
       "Name: distance, dtype: float64"
      ]
     },
     "execution_count": 58,
     "metadata": {},
     "output_type": "execute_result"
    }
   ],
   "source": [
    "group_by_cab_median=df.groupby(by=\"cab_type\")[\"distance\"].median()\n",
    "group_by_cab_median\n"
   ]
  },
  {
   "cell_type": "markdown",
   "id": "69f78f6b",
   "metadata": {},
   "source": [
    "# Ques-8 How distance is changing with surge?\n"
   ]
  },
  {
   "cell_type": "code",
   "execution_count": 59,
   "id": "d6b437bc",
   "metadata": {},
   "outputs": [
    {
     "data": {
      "text/plain": [
       "<matplotlib.collections.PathCollection at 0x7fe623621cd0>"
      ]
     },
     "execution_count": 59,
     "metadata": {},
     "output_type": "execute_result"
    },
    {
     "data": {
      "image/png": "[encoded data removed]",
      "text/plain": [
       "<Figure size 432x288 with 1 Axes>"
      ]
     },
     "metadata": {
      "needs_background": "light"
     },
     "output_type": "display_data"
    }
   ],
   "source": [
    "plt.scatter(df.surge_multiplier,df.distance)\n",
    "\n"
   ]
  },
  {
   "cell_type": "code",
   "execution_count": 60,
   "id": "a1f1605c",
   "metadata": {},
   "outputs": [
    {
     "data": {
      "text/plain": [
       "<matplotlib.collections.PathCollection at 0x7fe65272f880>"
      ]
     },
     "execution_count": 60,
     "metadata": {},
     "output_type": "execute_result"
    },
    {
     "data": {
      "image/png": "[encoded data removed]",
      "text/plain": [
       "<Figure size 432x288 with 1 Axes>"
      ]
     },
     "metadata": {
      "needs_background": "light"
     },
     "output_type": "display_data"
    }
   ],
   "source": [
    "plt.scatter(df.price,df.distance)\n",
    "\n"
   ]
  },
  {
   "cell_type": "code",
   "execution_count": 61,
   "id": "74226e16",
   "metadata": {
    "scrolled": true
   },
   "outputs": [
    {
     "data": {
      "image/png": "[encoded data removed]",
      "text/plain": [
       "<Figure size 419.875x360 with 1 Axes>"
      ]
     },
     "metadata": {
      "needs_background": "light"
     },
     "output_type": "display_data"
    }
   ],
   "source": [
    "sns.FacetGrid(df, hue=\"cab_type\",size=5).map(sns.scatterplot,\"surge_multiplier\", \"distance\").add_legend()\n",
    "plt.show()\n",
    "\n"
   ]
  },
  {
   "cell_type": "code",
   "execution_count": 62,
   "id": "c15c3d73",
   "metadata": {},
   "outputs": [
    {
     "data": {
      "image/png": "[encoded data removed]",
      "text/plain": [
       "<Figure size 419.875x360 with 1 Axes>"
      ]
     },
     "metadata": {
      "needs_background": "light"
     },
     "output_type": "display_data"
    }
   ],
   "source": [
    "sns.FacetGrid(df, hue=\"cab_type\",size=5).map(sns.scatterplot,\"distance\", \"price\").add_legend()\n",
    "plt.show()\n",
    "\n"
   ]
  },
  {
   "cell_type": "code",
   "execution_count": 64,
   "id": "f1a5b663",
   "metadata": {},
   "outputs": [
    {
     "data": {
      "text/plain": [
       "Index(['distance', 'cab_type', 'time_stamp', 'destination', 'source', 'price',\n",
       "       'surge_multiplier', 'id', 'product_id', 'name', 'date_time', 'date',\n",
       "       'time'],\n",
       "      dtype='object')"
      ]
     },
     "execution_count": 64,
     "metadata": {},
     "output_type": "execute_result"
    }
   ],
   "source": [
    "\n",
    "df_pair=df[[\"distance\",\"price\"]]"
   ]
  },
  {
   "cell_type": "code",
   "execution_count": 67,
   "id": "e1e1bcb8",
   "metadata": {},
   "outputs": [
    {
     "data": {
      "text/plain": [
       "<AxesSubplot:xlabel='distance'>"
      ]
     },
     "execution_count": 67,
     "metadata": {},
     "output_type": "execute_result"
    },
    {
     "data": {
      "image/png": "[encoded data removed]",
      "text/plain": [
       "<Figure size 432x288 with 1 Axes>"
      ]
     },
     "metadata": {
      "needs_background": "light"
     },
     "output_type": "display_data"
    }
   ],
   "source": [
    "#BOX PLOT \n",
    "\n",
    "sns.boxplot(df[\"distance\"])"
   ]
  },
  {
   "cell_type": "code",
   "execution_count": 68,
   "id": "1ae0cb8c",
   "metadata": {},
   "outputs": [],
   "source": [
    "\n",
    "#conclusions from box plot\n",
    "\n",
    "#25% of the trips happened in amost 1.2 km\n",
    "#50% of the trios happened in almost 2km\n",
    "#75% of the trips happened in almost 3km"
   ]
  },
  {
   "cell_type": "code",
   "execution_count": 69,
   "id": "38631d4e",
   "metadata": {},
   "outputs": [
    {
     "data": {
      "text/plain": [
       "<AxesSubplot:xlabel='price'>"
      ]
     },
     "execution_count": 69,
     "metadata": {},
     "output_type": "execute_result"
    },
    {
     "data": {
      "image/png": "[encoded data removed]",
      "text/plain": [
       "<Figure size 432x288 with 1 Axes>"
      ]
     },
     "metadata": {
      "needs_background": "light"
     },
     "output_type": "display_data"
    }
   ],
   "source": [
    "sns.boxplot(df[\"price\"])"
   ]
  },
  {
   "cell_type": "code",
   "execution_count": 70,
   "id": "91645232",
   "metadata": {},
   "outputs": [
    {
     "data": {
      "text/plain": [
       "<AxesSubplot:xlabel='price'>"
      ]
     },
     "execution_count": 70,
     "metadata": {},
     "output_type": "execute_result"
    },
    {
     "data": {
      "image/png": "[encoded data removed]",
      "text/plain": [
       "<Figure size 432x288 with 1 Axes>"
      ]
     },
     "metadata": {
      "needs_background": "light"
     },
     "output_type": "display_data"
    }
   ],
   "source": [
    "sns.violinplot(df['price'])\n",
    "#violin plot is a combination of boxplot and pdf."
   ]
  },
  {
   "cell_type": "code",
   "execution_count": 72,
   "id": "d47e3f59",
   "metadata": {},
   "outputs": [
    {
     "data": {
      "image/png": "[encoded data removed]",
      "text/plain": [
       "<Figure size 360x360 with 1 Axes>"
      ]
     },
     "metadata": {
      "needs_background": "light"
     },
     "output_type": "display_data"
    }
   ],
   "source": [
    "sns.FacetGrid(df,size=5).map(sns.distplot, \"price\")\n",
    "plt.show()"
   ]
  },
  {
   "cell_type": "code",
   "execution_count": 73,
   "id": "c85a9b6d",
   "metadata": {},
   "outputs": [
    {
     "data": {
      "text/plain": [
       "<AxesSubplot:xlabel='distance'>"
      ]
     },
     "execution_count": 73,
     "metadata": {},
     "output_type": "execute_result"
    },
    {
     "data": {
      "image/png": "[encoded data removed]",
      "text/plain": [
       "<Figure size 432x288 with 1 Axes>"
      ]
     },
     "metadata": {
      "needs_background": "light"
     },
     "output_type": "display_data"
    }
   ],
   "source": [
    "sns.violinplot(df['distance'])\n",
    "\n"
   ]
  },
  {
   "cell_type": "code",
   "execution_count": 74,
   "id": "f5bca57e",
   "metadata": {},
   "outputs": [
    {
     "data": {
      "image/png": "[encoded data removed]",
      "text/plain": [
       "<Figure size 360x360 with 1 Axes>"
      ]
     },
     "metadata": {
      "needs_background": "light"
     },
     "output_type": "display_data"
    }
   ],
   "source": [
    "sns.FacetGrid(df,size=5).map(sns.distplot, \"distance\")\n",
    "plt.show()"
   ]
  },
  {
   "cell_type": "code",
   "execution_count": null,
   "id": "a36dcee0",
   "metadata": {},
   "outputs": [],
   "source": []
  }
 ],
 "metadata": {
  "kernelspec": {
   "display_name": "Python 3",
   "language": "python",
   "name": "python3"
  },
  "language_info": {
   "codemirror_mode": {
    "name": "ipython",
    "version": 3
   },
   "file_extension": ".py",
   "mimetype": "text/x-python",
   "name": "python",
   "nbconvert_exporter": "python",
   "pygments_lexer": "ipython3",
   "version": "3.8.8"
  }
 },
 "nbformat": 4,
 "nbformat_minor": 5
}
